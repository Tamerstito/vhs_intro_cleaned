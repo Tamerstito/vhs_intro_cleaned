{
 "cells": [
  {
   "cell_type": "markdown",
   "id": "14661cfa",
   "metadata": {
    "papermill": {
     "duration": 0.00519,
     "end_time": "2025-01-13T17:24:53.993510",
     "exception": false,
     "start_time": "2025-01-13T17:24:53.988320",
     "status": "completed"
    },
    "tags": []
   },
   "source": [
    "**This notebook is an exercise in the [Intro to Deep Learning](https://www.kaggle.com/learn/intro-to-deep-learning) course.  You can reference the tutorial at [this link](https://www.kaggle.com/ryanholbrook/overfitting-and-underfitting).**\n",
    "\n",
    "---\n"
   ]
  },
  {
   "cell_type": "markdown",
   "id": "70db69b0",
   "metadata": {
    "papermill": {
     "duration": 0.004244,
     "end_time": "2025-01-13T17:24:54.002518",
     "exception": false,
     "start_time": "2025-01-13T17:24:53.998274",
     "status": "completed"
    },
    "tags": []
   },
   "source": [
    "# Introduction #\n",
    "\n",
    "In this exercise, you’ll learn how to improve training outcomes by including an early stopping callback to prevent overfitting.\n",
    "\n",
    "When you're ready, run this next cell to set everything up!"
   ]
  },
  {
   "cell_type": "code",
   "execution_count": 1,
   "id": "78a051d6",
   "metadata": {
    "execution": {
     "iopub.execute_input": "2025-01-13T17:24:54.014415Z",
     "iopub.status.busy": "2025-01-13T17:24:54.014020Z",
     "iopub.status.idle": "2025-01-13T17:24:55.038701Z",
     "shell.execute_reply": "2025-01-13T17:24:55.037459Z"
    },
    "papermill": {
     "duration": 1.033671,
     "end_time": "2025-01-13T17:24:55.041284",
     "exception": false,
     "start_time": "2025-01-13T17:24:54.007613",
     "status": "completed"
    },
    "tags": []
   },
   "outputs": [
    {
     "name": "stderr",
     "output_type": "stream",
     "text": [
      "/tmp/ipykernel_18/1500229236.py:3: MatplotlibDeprecationWarning: The seaborn styles shipped by Matplotlib are deprecated since 3.6, as they no longer correspond to the styles shipped by seaborn. However, they will remain available as 'seaborn-v0_8-<style>'. Alternatively, directly use the seaborn API instead.\n",
      "  plt.style.use('seaborn-whitegrid')\n"
     ]
    }
   ],
   "source": [
    "# Setup plotting\n",
    "import matplotlib.pyplot as plt\n",
    "plt.style.use('seaborn-whitegrid')\n",
    "# Set Matplotlib defaults\n",
    "plt.rc('figure', autolayout=True)\n",
    "plt.rc('axes', labelweight='bold', labelsize='large',\n",
    "       titleweight='bold', titlesize=18, titlepad=10)\n",
    "plt.rc('animation', html='html5')\n",
    "\n",
    "# Setup feedback system\n",
    "from learntools.core import binder\n",
    "binder.bind(globals())\n",
    "from learntools.deep_learning_intro.ex4 import *"
   ]
  },
  {
   "cell_type": "markdown",
   "id": "5ddaa4bd",
   "metadata": {
    "papermill": {
     "duration": 0.004507,
     "end_time": "2025-01-13T17:24:55.050644",
     "exception": false,
     "start_time": "2025-01-13T17:24:55.046137",
     "status": "completed"
    },
    "tags": []
   },
   "source": [
    "First load the *Spotify* dataset. Your task will be to predict the popularity of a song based on various audio features, like `'tempo'`, `'danceability'`, and `'mode'`."
   ]
  },
  {
   "cell_type": "code",
   "execution_count": 2,
   "id": "f9f92778",
   "metadata": {
    "execution": {
     "iopub.execute_input": "2025-01-13T17:24:55.061447Z",
     "iopub.status.busy": "2025-01-13T17:24:55.060949Z",
     "iopub.status.idle": "2025-01-13T17:25:12.371105Z",
     "shell.execute_reply": "2025-01-13T17:25:12.369818Z"
    },
    "papermill": {
     "duration": 17.31827,
     "end_time": "2025-01-13T17:25:12.373450",
     "exception": false,
     "start_time": "2025-01-13T17:24:55.055180",
     "status": "completed"
    },
    "tags": []
   },
   "outputs": [
    {
     "name": "stderr",
     "output_type": "stream",
     "text": [
      "2025-01-13 17:24:59.028050: E external/local_xla/xla/stream_executor/cuda/cuda_dnn.cc:9261] Unable to register cuDNN factory: Attempting to register factory for plugin cuDNN when one has already been registered\n",
      "2025-01-13 17:24:59.028213: E external/local_xla/xla/stream_executor/cuda/cuda_fft.cc:607] Unable to register cuFFT factory: Attempting to register factory for plugin cuFFT when one has already been registered\n",
      "2025-01-13 17:24:59.186992: E external/local_xla/xla/stream_executor/cuda/cuda_blas.cc:1515] Unable to register cuBLAS factory: Attempting to register factory for plugin cuBLAS when one has already been registered\n"
     ]
    },
    {
     "name": "stdout",
     "output_type": "stream",
     "text": [
      "Input shape: [18]\n"
     ]
    }
   ],
   "source": [
    "import pandas as pd\n",
    "from sklearn.preprocessing import StandardScaler, OneHotEncoder\n",
    "from sklearn.compose import make_column_transformer\n",
    "from sklearn.model_selection import GroupShuffleSplit\n",
    "\n",
    "from tensorflow import keras\n",
    "from tensorflow.keras import layers\n",
    "from tensorflow.keras import callbacks\n",
    "\n",
    "spotify = pd.read_csv('../input/dl-course-data/spotify.csv')\n",
    "\n",
    "X = spotify.copy().dropna()\n",
    "y = X.pop('track_popularity')\n",
    "artists = X['track_artist']\n",
    "\n",
    "features_num = ['danceability', 'energy', 'key', 'loudness', 'mode',\n",
    "                'speechiness', 'acousticness', 'instrumentalness',\n",
    "                'liveness', 'valence', 'tempo', 'duration_ms']\n",
    "features_cat = ['playlist_genre']\n",
    "\n",
    "preprocessor = make_column_transformer(\n",
    "    (StandardScaler(), features_num),\n",
    "    (OneHotEncoder(), features_cat),\n",
    ")\n",
    "\n",
    "# We'll do a \"grouped\" split to keep all of an artist's songs in one\n",
    "# split or the other. This is to help prevent signal leakage.\n",
    "def group_split(X, y, group, train_size=0.75):\n",
    "    splitter = GroupShuffleSplit(train_size=train_size)\n",
    "    train, test = next(splitter.split(X, y, groups=group))\n",
    "    return (X.iloc[train], X.iloc[test], y.iloc[train], y.iloc[test])\n",
    "\n",
    "X_train, X_valid, y_train, y_valid = group_split(X, y, artists)\n",
    "\n",
    "X_train = preprocessor.fit_transform(X_train)\n",
    "X_valid = preprocessor.transform(X_valid)\n",
    "y_train = y_train / 100 # popularity is on a scale 0-100, so this rescales to 0-1.\n",
    "y_valid = y_valid / 100\n",
    "\n",
    "input_shape = [X_train.shape[1]]\n",
    "print(\"Input shape: {}\".format(input_shape))"
   ]
  },
  {
   "cell_type": "markdown",
   "id": "0e6273e1",
   "metadata": {
    "papermill": {
     "duration": 0.004551,
     "end_time": "2025-01-13T17:25:12.382919",
     "exception": false,
     "start_time": "2025-01-13T17:25:12.378368",
     "status": "completed"
    },
    "tags": []
   },
   "source": [
    "Let's start with the simplest network, a linear model. This model has low capacity.\n",
    "\n",
    "Run this next cell without any changes to train a linear model on the *Spotify* dataset."
   ]
  },
  {
   "cell_type": "code",
   "execution_count": 3,
   "id": "17aa6529",
   "metadata": {
    "execution": {
     "iopub.execute_input": "2025-01-13T17:25:12.394844Z",
     "iopub.status.busy": "2025-01-13T17:25:12.393770Z",
     "iopub.status.idle": "2025-01-13T17:25:18.921273Z",
     "shell.execute_reply": "2025-01-13T17:25:18.919929Z"
    },
    "lines_to_next_cell": 0,
    "papermill": {
     "duration": 6.536589,
     "end_time": "2025-01-13T17:25:18.924307",
     "exception": false,
     "start_time": "2025-01-13T17:25:12.387718",
     "status": "completed"
    },
    "tags": []
   },
   "outputs": [
    {
     "name": "stdout",
     "output_type": "stream",
     "text": [
      "Minimum Validation Loss: 0.2016\n"
     ]
    },
    {
     "data": {
      "image/png": "[encoded data removed]",
      "text/plain": [
       "<Figure size 640x480 with 1 Axes>"
      ]
     },
     "metadata": {},
     "output_type": "display_data"
    }
   ],
   "source": [
    "model = keras.Sequential([\n",
    "    layers.Dense(1, input_shape=input_shape),\n",
    "])\n",
    "model.compile(\n",
    "    optimizer='adam',\n",
    "    loss='mae',\n",
    ")\n",
    "history = model.fit(\n",
    "    X_train, y_train,\n",
    "    validation_data=(X_valid, y_valid),\n",
    "    batch_size=512,\n",
    "    epochs=50,\n",
    "    verbose=0, # suppress output since we'll plot the curves\n",
    ")\n",
    "history_df = pd.DataFrame(history.history)\n",
    "history_df.loc[0:, ['loss', 'val_loss']].plot()\n",
    "print(\"Minimum Validation Loss: {:0.4f}\".format(history_df['val_loss'].min()));"
   ]
  },
  {
   "cell_type": "markdown",
   "id": "48b439b9",
   "metadata": {
    "papermill": {
     "duration": 0.005749,
     "end_time": "2025-01-13T17:25:18.936349",
     "exception": false,
     "start_time": "2025-01-13T17:25:18.930600",
     "status": "completed"
    },
    "tags": []
   },
   "source": [
    "It's not uncommon for the curves to follow a \"hockey stick\" pattern like you see here. This makes the final part of training hard to see, so let's start at epoch 10 instead:"
   ]
  },
  {
   "cell_type": "code",
   "execution_count": 4,
   "id": "f0fa561b",
   "metadata": {
    "execution": {
     "iopub.execute_input": "2025-01-13T17:25:18.950156Z",
     "iopub.status.busy": "2025-01-13T17:25:18.949738Z",
     "iopub.status.idle": "2025-01-13T17:25:19.311976Z",
     "shell.execute_reply": "2025-01-13T17:25:19.310737Z"
    },
    "papermill": {
     "duration": 0.371904,
     "end_time": "2025-01-13T17:25:19.314347",
     "exception": false,
     "start_time": "2025-01-13T17:25:18.942443",
     "status": "completed"
    },
    "tags": []
   },
   "outputs": [
    {
     "name": "stdout",
     "output_type": "stream",
     "text": [
      "Minimum Validation Loss: 0.2016\n"
     ]
    },
    {
     "data": {
      "image/png": "[encoded data removed]",
      "text/plain": [
       "<Figure size 640x480 with 1 Axes>"
      ]
     },
     "metadata": {},
     "output_type": "display_data"
    }
   ],
   "source": [
    "# Start the plot at epoch 10\n",
    "history_df.loc[10:, ['loss', 'val_loss']].plot()\n",
    "print(\"Minimum Validation Loss: {:0.4f}\".format(history_df['val_loss'].min()));"
   ]
  },
  {
   "cell_type": "markdown",
   "id": "5fcb40ee",
   "metadata": {
    "papermill": {
     "duration": 0.005802,
     "end_time": "2025-01-13T17:25:19.326227",
     "exception": false,
     "start_time": "2025-01-13T17:25:19.320425",
     "status": "completed"
    },
    "tags": []
   },
   "source": [
    "# 1) Evaluate Baseline\n",
    "\n",
    "What do you think? Would you say this model is underfitting, overfitting, just right?\n",
    "Underfitting just a little bit"
   ]
  },
  {
   "cell_type": "code",
   "execution_count": 5,
   "id": "b1b7a367",
   "metadata": {
    "execution": {
     "iopub.execute_input": "2025-01-13T17:25:19.339930Z",
     "iopub.status.busy": "2025-01-13T17:25:19.339505Z",
     "iopub.status.idle": "2025-01-13T17:25:19.348850Z",
     "shell.execute_reply": "2025-01-13T17:25:19.347733Z"
    },
    "papermill": {
     "duration": 0.018758,
     "end_time": "2025-01-13T17:25:19.350970",
     "exception": false,
     "start_time": "2025-01-13T17:25:19.332212",
     "status": "completed"
    },
    "tags": []
   },
   "outputs": [
    {
     "data": {
      "application/javascript": [
       "parent.postMessage({\"jupyterEvent\": \"custom.exercise_interaction\", \"data\": {\"outcomeType\": 1, \"valueTowardsCompletion\": 0.25, \"interactionType\": 1, \"questionType\": 4, \"questionId\": \"1_Q1\", \"learnToolsVersion\": \"0.3.4\", \"failureMessage\": \"\", \"exceptionClass\": \"\", \"trace\": \"\"}}, \"*\")"
      ],
      "text/plain": [
       "<IPython.core.display.Javascript object>"
      ]
     },
     "metadata": {},
     "output_type": "display_data"
    },
    {
     "data": {
      "text/markdown": [
       "<span style=\"color:#33cc33\">Correct:</span> \n",
       "\n",
       "The gap between these curves is quite small and the validation loss never increases, so it's more likely that the network is underfitting than overfitting. It would be worth experimenting with more capacity to see if that's the case."
      ],
      "text/plain": [
       "Correct: \n",
       "\n",
       "The gap between these curves is quite small and the validation loss never increases, so it's more likely that the network is underfitting than overfitting. It would be worth experimenting with more capacity to see if that's the case."
      ]
     },
     "metadata": {},
     "output_type": "display_data"
    }
   ],
   "source": [
    "# View the solution (Run this cell to receive credit!)\n",
    "q_1.check()"
   ]
  },
  {
   "cell_type": "markdown",
   "id": "da806b29",
   "metadata": {
    "papermill": {
     "duration": 0.005807,
     "end_time": "2025-01-13T17:25:19.364551",
     "exception": false,
     "start_time": "2025-01-13T17:25:19.358744",
     "status": "completed"
    },
    "tags": []
   },
   "source": [
    "Now let's add some capacity to our network. We'll add three hidden layers with 128 units each. Run the next cell to train the network and see the learning curves."
   ]
  },
  {
   "cell_type": "code",
   "execution_count": 6,
   "id": "3a21a040",
   "metadata": {
    "execution": {
     "iopub.execute_input": "2025-01-13T17:25:19.378307Z",
     "iopub.status.busy": "2025-01-13T17:25:19.377948Z",
     "iopub.status.idle": "2025-01-13T17:25:30.446213Z",
     "shell.execute_reply": "2025-01-13T17:25:30.445068Z"
    },
    "papermill": {
     "duration": 11.07795,
     "end_time": "2025-01-13T17:25:30.448531",
     "exception": false,
     "start_time": "2025-01-13T17:25:19.370581",
     "status": "completed"
    },
    "tags": []
   },
   "outputs": [
    {
     "name": "stdout",
     "output_type": "stream",
     "text": [
      "Epoch 1/50\n",
      "49/49 [==============================] - 1s 7ms/step - loss: 0.2164 - val_loss: 0.2066\n",
      "Epoch 2/50\n",
      "49/49 [==============================] - 0s 4ms/step - loss: 0.1979 - val_loss: 0.2020\n",
      "Epoch 3/50\n",
      "49/49 [==============================] - 0s 4ms/step - loss: 0.1934 - val_loss: 0.2005\n",
      "Epoch 4/50\n",
      "49/49 [==============================] - 0s 4ms/step - loss: 0.1911 - val_loss: 0.1997\n",
      "Epoch 5/50\n",
      "49/49 [==============================] - 0s 4ms/step - loss: 0.1897 - val_loss: 0.1998\n",
      "Epoch 6/50\n",
      "49/49 [==============================] - 0s 4ms/step - loss: 0.1887 - val_loss: 0.1987\n",
      "Epoch 7/50\n",
      "49/49 [==============================] - 0s 4ms/step - loss: 0.1866 - val_loss: 0.1983\n",
      "Epoch 8/50\n",
      "49/49 [==============================] - 0s 4ms/step - loss: 0.1865 - val_loss: 0.1986\n",
      "Epoch 9/50\n",
      "49/49 [==============================] - 0s 4ms/step - loss: 0.1852 - val_loss: 0.1988\n",
      "Epoch 10/50\n",
      "49/49 [==============================] - 0s 4ms/step - loss: 0.1842 - val_loss: 0.1998\n",
      "Epoch 11/50\n",
      "49/49 [==============================] - 0s 4ms/step - loss: 0.1832 - val_loss: 0.1987\n",
      "Epoch 12/50\n",
      "49/49 [==============================] - 0s 4ms/step - loss: 0.1829 - val_loss: 0.1994\n",
      "Epoch 13/50\n",
      "49/49 [==============================] - 0s 4ms/step - loss: 0.1820 - val_loss: 0.1988\n",
      "Epoch 14/50\n",
      "49/49 [==============================] - 0s 4ms/step - loss: 0.1818 - val_loss: 0.1992\n",
      "Epoch 15/50\n",
      "49/49 [==============================] - 0s 4ms/step - loss: 0.1807 - val_loss: 0.2014\n",
      "Epoch 16/50\n",
      "49/49 [==============================] - 0s 4ms/step - loss: 0.1808 - val_loss: 0.1989\n",
      "Epoch 17/50\n",
      "49/49 [==============================] - 0s 4ms/step - loss: 0.1796 - val_loss: 0.2003\n",
      "Epoch 18/50\n",
      "49/49 [==============================] - 0s 4ms/step - loss: 0.1791 - val_loss: 0.2002\n",
      "Epoch 19/50\n",
      "49/49 [==============================] - 0s 4ms/step - loss: 0.1782 - val_loss: 0.2007\n",
      "Epoch 20/50\n",
      "49/49 [==============================] - 0s 4ms/step - loss: 0.1776 - val_loss: 0.2012\n",
      "Epoch 21/50\n",
      "49/49 [==============================] - 0s 4ms/step - loss: 0.1770 - val_loss: 0.2010\n",
      "Epoch 22/50\n",
      "49/49 [==============================] - 0s 4ms/step - loss: 0.1767 - val_loss: 0.2009\n",
      "Epoch 23/50\n",
      "49/49 [==============================] - 0s 4ms/step - loss: 0.1763 - val_loss: 0.2005\n",
      "Epoch 24/50\n",
      "49/49 [==============================] - 0s 4ms/step - loss: 0.1756 - val_loss: 0.2013\n",
      "Epoch 25/50\n",
      "49/49 [==============================] - 0s 4ms/step - loss: 0.1750 - val_loss: 0.2020\n",
      "Epoch 26/50\n",
      "49/49 [==============================] - 0s 4ms/step - loss: 0.1747 - val_loss: 0.2022\n",
      "Epoch 27/50\n",
      "49/49 [==============================] - 0s 4ms/step - loss: 0.1740 - val_loss: 0.2023\n",
      "Epoch 28/50\n",
      "49/49 [==============================] - 0s 4ms/step - loss: 0.1736 - val_loss: 0.2028\n",
      "Epoch 29/50\n",
      "49/49 [==============================] - 0s 4ms/step - loss: 0.1733 - val_loss: 0.2022\n",
      "Epoch 30/50\n",
      "49/49 [==============================] - 0s 4ms/step - loss: 0.1721 - val_loss: 0.2042\n",
      "Epoch 31/50\n",
      "49/49 [==============================] - 0s 4ms/step - loss: 0.1715 - val_loss: 0.2033\n",
      "Epoch 32/50\n",
      "49/49 [==============================] - 0s 4ms/step - loss: 0.1716 - val_loss: 0.2032\n",
      "Epoch 33/50\n",
      "49/49 [==============================] - 0s 4ms/step - loss: 0.1715 - val_loss: 0.2045\n",
      "Epoch 34/50\n",
      "49/49 [==============================] - 0s 4ms/step - loss: 0.1707 - val_loss: 0.2042\n",
      "Epoch 35/50\n",
      "49/49 [==============================] - 0s 4ms/step - loss: 0.1699 - val_loss: 0.2058\n",
      "Epoch 36/50\n",
      "49/49 [==============================] - 0s 4ms/step - loss: 0.1693 - val_loss: 0.2051\n",
      "Epoch 37/50\n",
      "49/49 [==============================] - 0s 4ms/step - loss: 0.1705 - val_loss: 0.2045\n",
      "Epoch 38/50\n",
      "49/49 [==============================] - 0s 4ms/step - loss: 0.1687 - val_loss: 0.2049\n",
      "Epoch 39/50\n",
      "49/49 [==============================] - 0s 4ms/step - loss: 0.1687 - val_loss: 0.2041\n",
      "Epoch 40/50\n",
      "49/49 [==============================] - 0s 4ms/step - loss: 0.1680 - val_loss: 0.2051\n",
      "Epoch 41/50\n",
      "49/49 [==============================] - 0s 4ms/step - loss: 0.1680 - val_loss: 0.2047\n",
      "Epoch 42/50\n",
      "49/49 [==============================] - 0s 4ms/step - loss: 0.1670 - val_loss: 0.2041\n",
      "Epoch 43/50\n",
      "49/49 [==============================] - 0s 4ms/step - loss: 0.1668 - val_loss: 0.2055\n",
      "Epoch 44/50\n",
      "49/49 [==============================] - 0s 4ms/step - loss: 0.1666 - val_loss: 0.2055\n",
      "Epoch 45/50\n",
      "49/49 [==============================] - 0s 4ms/step - loss: 0.1667 - val_loss: 0.2057\n",
      "Epoch 46/50\n",
      "49/49 [==============================] - 0s 4ms/step - loss: 0.1659 - val_loss: 0.2073\n",
      "Epoch 47/50\n",
      "49/49 [==============================] - 0s 4ms/step - loss: 0.1656 - val_loss: 0.2055\n",
      "Epoch 48/50\n",
      "49/49 [==============================] - 0s 4ms/step - loss: 0.1651 - val_loss: 0.2066\n",
      "Epoch 49/50\n",
      "49/49 [==============================] - 0s 4ms/step - loss: 0.1646 - val_loss: 0.2059\n",
      "Epoch 50/50\n",
      "49/49 [==============================] - 0s 4ms/step - loss: 0.1640 - val_loss: 0.2067\n",
      "Minimum Validation Loss: 0.1983\n"
     ]
    },
    {
     "data": {
      "image/png": "[encoded data removed]",
      "text/plain": [
       "<Figure size 640x480 with 1 Axes>"
      ]
     },
     "metadata": {},
     "output_type": "display_data"
    }
   ],
   "source": [
    "model = keras.Sequential([\n",
    "    layers.Dense(128, activation='relu', input_shape=input_shape),\n",
    "    layers.Dense(64, activation='relu'),\n",
    "    layers.Dense(1)\n",
    "])\n",
    "model.compile(\n",
    "    optimizer='adam',\n",
    "    loss='mae',\n",
    ")\n",
    "history = model.fit(\n",
    "    X_train, y_train,\n",
    "    validation_data=(X_valid, y_valid),\n",
    "    batch_size=512,\n",
    "    epochs=50,\n",
    ")\n",
    "history_df = pd.DataFrame(history.history)\n",
    "history_df.loc[:, ['loss', 'val_loss']].plot()\n",
    "print(\"Minimum Validation Loss: {:0.4f}\".format(history_df['val_loss'].min()));"
   ]
  },
  {
   "cell_type": "markdown",
   "id": "5a64439a",
   "metadata": {
    "papermill": {
     "duration": 0.020099,
     "end_time": "2025-01-13T17:25:30.489108",
     "exception": false,
     "start_time": "2025-01-13T17:25:30.469009",
     "status": "completed"
    },
    "tags": []
   },
   "source": [
    "# 2) Add Capacity\n",
    "\n",
    "What is your evaluation of these curves? Underfitting, overfitting, just right?\n",
    "Overfitting"
   ]
  },
  {
   "cell_type": "code",
   "execution_count": 7,
   "id": "1f584ee2",
   "metadata": {
    "execution": {
     "iopub.execute_input": "2025-01-13T17:25:30.531980Z",
     "iopub.status.busy": "2025-01-13T17:25:30.531538Z",
     "iopub.status.idle": "2025-01-13T17:25:30.540030Z",
     "shell.execute_reply": "2025-01-13T17:25:30.539035Z"
    },
    "papermill": {
     "duration": 0.032163,
     "end_time": "2025-01-13T17:25:30.541920",
     "exception": false,
     "start_time": "2025-01-13T17:25:30.509757",
     "status": "completed"
    },
    "tags": []
   },
   "outputs": [
    {
     "data": {
      "application/javascript": [
       "parent.postMessage({\"jupyterEvent\": \"custom.exercise_interaction\", \"data\": {\"outcomeType\": 1, \"valueTowardsCompletion\": 0.25, \"interactionType\": 1, \"questionType\": 4, \"questionId\": \"2_Q2\", \"learnToolsVersion\": \"0.3.4\", \"failureMessage\": \"\", \"exceptionClass\": \"\", \"trace\": \"\"}}, \"*\")"
      ],
      "text/plain": [
       "<IPython.core.display.Javascript object>"
      ]
     },
     "metadata": {},
     "output_type": "display_data"
    },
    {
     "data": {
      "text/markdown": [
       "<span style=\"color:#33cc33\">Correct:</span> \n",
       "\n",
       "Now the validation loss begins to rise very early, while the training loss continues to decrease. This indicates that the network has begun to overfit. At this point, we would need to try something to prevent it, either by reducing the number of units or through a method like early stopping. (We'll see another in the next lesson!)"
      ],
      "text/plain": [
       "Correct: \n",
       "\n",
       "Now the validation loss begins to rise very early, while the training loss continues to decrease. This indicates that the network has begun to overfit. At this point, we would need to try something to prevent it, either by reducing the number of units or through a method like early stopping. (We'll see another in the next lesson!)"
      ]
     },
     "metadata": {},
     "output_type": "display_data"
    }
   ],
   "source": [
    "# View the solution (Run this cell to receive credit!)\n",
    "q_2.check()"
   ]
  },
  {
   "cell_type": "markdown",
   "id": "91bf033d",
   "metadata": {
    "papermill": {
     "duration": 0.020282,
     "end_time": "2025-01-13T17:25:30.582650",
     "exception": false,
     "start_time": "2025-01-13T17:25:30.562368",
     "status": "completed"
    },
    "tags": []
   },
   "source": [
    "# 3) Define Early Stopping Callback\n",
    "\n",
    "Now define an early stopping callback that waits 5 epochs (`patience'`) for a change in validation loss of at least `0.001` (`min_delta`) and keeps the weights with the best loss (`restore_best_weights`)."
   ]
  },
  {
   "cell_type": "code",
   "execution_count": 8,
   "id": "551b996e",
   "metadata": {
    "execution": {
     "iopub.execute_input": "2025-01-13T17:25:30.624807Z",
     "iopub.status.busy": "2025-01-13T17:25:30.624437Z",
     "iopub.status.idle": "2025-01-13T17:25:30.634858Z",
     "shell.execute_reply": "2025-01-13T17:25:30.634007Z"
    },
    "lines_to_next_cell": 0,
    "papermill": {
     "duration": 0.033839,
     "end_time": "2025-01-13T17:25:30.636815",
     "exception": false,
     "start_time": "2025-01-13T17:25:30.602976",
     "status": "completed"
    },
    "tags": []
   },
   "outputs": [
    {
     "data": {
      "application/javascript": [
       "parent.postMessage({\"jupyterEvent\": \"custom.exercise_interaction\", \"data\": {\"outcomeType\": 1, \"valueTowardsCompletion\": 0.25, \"interactionType\": 1, \"questionType\": 2, \"questionId\": \"3_Q3\", \"learnToolsVersion\": \"0.3.4\", \"failureMessage\": \"\", \"exceptionClass\": \"\", \"trace\": \"\"}}, \"*\")"
      ],
      "text/plain": [
       "<IPython.core.display.Javascript object>"
      ]
     },
     "metadata": {},
     "output_type": "display_data"
    },
    {
     "data": {
      "text/markdown": [
       "<span style=\"color:#33cc33\">Correct</span>"
      ],
      "text/plain": [
       "Correct"
      ]
     },
     "metadata": {},
     "output_type": "display_data"
    }
   ],
   "source": [
    "from tensorflow.keras import callbacks\n",
    "from tensorflow.keras.callbacks import EarlyStopping\n",
    "\n",
    "# YOUR CODE HERE: define an early stopping callback\n",
    "early_stopping = EarlyStopping(\n",
    "    min_delta=0.001,\n",
    "    patience=5,\n",
    "    restore_best_weights=True,\n",
    ")\n",
    "\n",
    "# Check your answer\n",
    "q_3.check()"
   ]
  },
  {
   "cell_type": "code",
   "execution_count": 9,
   "id": "b743b062",
   "metadata": {
    "execution": {
     "iopub.execute_input": "2025-01-13T17:25:30.679449Z",
     "iopub.status.busy": "2025-01-13T17:25:30.679057Z",
     "iopub.status.idle": "2025-01-13T17:25:30.684323Z",
     "shell.execute_reply": "2025-01-13T17:25:30.683046Z"
    },
    "papermill": {
     "duration": 0.029668,
     "end_time": "2025-01-13T17:25:30.686891",
     "exception": false,
     "start_time": "2025-01-13T17:25:30.657223",
     "status": "completed"
    },
    "tags": []
   },
   "outputs": [],
   "source": [
    "# Lines below will give you a hint or solution code\n",
    "#q_3.hint()\n",
    "#q_3.solution()"
   ]
  },
  {
   "cell_type": "markdown",
   "id": "7bb87a1e",
   "metadata": {
    "papermill": {
     "duration": 0.020844,
     "end_time": "2025-01-13T17:25:30.729548",
     "exception": false,
     "start_time": "2025-01-13T17:25:30.708704",
     "status": "completed"
    },
    "tags": []
   },
   "source": [
    "Now run this cell to train the model and get the learning curves. Notice the `callbacks` argument in `model.fit`."
   ]
  },
  {
   "cell_type": "code",
   "execution_count": 10,
   "id": "d1ac5737",
   "metadata": {
    "execution": {
     "iopub.execute_input": "2025-01-13T17:25:30.772781Z",
     "iopub.status.busy": "2025-01-13T17:25:30.772437Z",
     "iopub.status.idle": "2025-01-13T17:25:34.700629Z",
     "shell.execute_reply": "2025-01-13T17:25:34.699399Z"
    },
    "papermill": {
     "duration": 3.952453,
     "end_time": "2025-01-13T17:25:34.703006",
     "exception": false,
     "start_time": "2025-01-13T17:25:30.750553",
     "status": "completed"
    },
    "tags": []
   },
   "outputs": [
    {
     "name": "stdout",
     "output_type": "stream",
     "text": [
      "Epoch 1/50\n",
      "49/49 [==============================] - 1s 7ms/step - loss: 0.2465 - val_loss: 0.2129\n",
      "Epoch 2/50\n",
      "49/49 [==============================] - 0s 4ms/step - loss: 0.2009 - val_loss: 0.2067\n",
      "Epoch 3/50\n",
      "49/49 [==============================] - 0s 4ms/step - loss: 0.1962 - val_loss: 0.2037\n",
      "Epoch 4/50\n",
      "49/49 [==============================] - 0s 4ms/step - loss: 0.1927 - val_loss: 0.2036\n",
      "Epoch 5/50\n",
      "49/49 [==============================] - 0s 4ms/step - loss: 0.1908 - val_loss: 0.2014\n",
      "Epoch 6/50\n",
      "49/49 [==============================] - 0s 4ms/step - loss: 0.1891 - val_loss: 0.2020\n",
      "Epoch 7/50\n",
      "49/49 [==============================] - 0s 4ms/step - loss: 0.1878 - val_loss: 0.2010\n",
      "Epoch 8/50\n",
      "49/49 [==============================] - 0s 4ms/step - loss: 0.1866 - val_loss: 0.2011\n",
      "Epoch 9/50\n",
      "49/49 [==============================] - 0s 4ms/step - loss: 0.1853 - val_loss: 0.2001\n",
      "Epoch 10/50\n",
      "49/49 [==============================] - 0s 4ms/step - loss: 0.1849 - val_loss: 0.2014\n",
      "Epoch 11/50\n",
      "49/49 [==============================] - 0s 4ms/step - loss: 0.1842 - val_loss: 0.2018\n",
      "Epoch 12/50\n",
      "49/49 [==============================] - 0s 4ms/step - loss: 0.1834 - val_loss: 0.2008\n",
      "Epoch 13/50\n",
      "49/49 [==============================] - 0s 4ms/step - loss: 0.1831 - val_loss: 0.2007\n",
      "Epoch 14/50\n",
      "49/49 [==============================] - 0s 4ms/step - loss: 0.1819 - val_loss: 0.2024\n",
      "Minimum Validation Loss: 0.2001\n"
     ]
    },
    {
     "data": {
      "image/png": "[encoded data removed]",
      "text/plain": [
       "<Figure size 640x480 with 1 Axes>"
      ]
     },
     "metadata": {},
     "output_type": "display_data"
    }
   ],
   "source": [
    "model = keras.Sequential([\n",
    "    layers.Dense(128, activation='relu', input_shape=input_shape),\n",
    "    layers.Dense(64, activation='relu'),    \n",
    "    layers.Dense(1)\n",
    "])\n",
    "model.compile(\n",
    "    optimizer='adam',\n",
    "    loss='mae',\n",
    ")\n",
    "history = model.fit(\n",
    "    X_train, y_train,\n",
    "    validation_data=(X_valid, y_valid),\n",
    "    batch_size=512,\n",
    "    epochs=50,\n",
    "    callbacks=[early_stopping]\n",
    ")\n",
    "history_df = pd.DataFrame(history.history)\n",
    "history_df.loc[:, ['loss', 'val_loss']].plot()\n",
    "print(\"Minimum Validation Loss: {:0.4f}\".format(history_df['val_loss'].min()));"
   ]
  },
  {
   "cell_type": "markdown",
   "id": "99e65d5b",
   "metadata": {
    "papermill": {
     "duration": 0.024542,
     "end_time": "2025-01-13T17:25:34.752775",
     "exception": false,
     "start_time": "2025-01-13T17:25:34.728233",
     "status": "completed"
    },
    "tags": []
   },
   "source": [
    "# 4) Train and Interpret\n",
    "\n",
    "Was this an improvement compared to training without early stopping?\n",
    "Yes, the validation loss doesn't rise as sharply afterwards, and just decreases slightly more."
   ]
  },
  {
   "cell_type": "code",
   "execution_count": 11,
   "id": "557e25a5",
   "metadata": {
    "execution": {
     "iopub.execute_input": "2025-01-13T17:25:34.804392Z",
     "iopub.status.busy": "2025-01-13T17:25:34.803975Z",
     "iopub.status.idle": "2025-01-13T17:25:34.813337Z",
     "shell.execute_reply": "2025-01-13T17:25:34.812354Z"
    },
    "papermill": {
     "duration": 0.037511,
     "end_time": "2025-01-13T17:25:34.815467",
     "exception": false,
     "start_time": "2025-01-13T17:25:34.777956",
     "status": "completed"
    },
    "tags": []
   },
   "outputs": [
    {
     "data": {
      "application/javascript": [
       "parent.postMessage({\"jupyterEvent\": \"custom.exercise_interaction\", \"data\": {\"outcomeType\": 1, \"valueTowardsCompletion\": 0.25, \"interactionType\": 1, \"questionType\": 4, \"questionId\": \"4_Q4\", \"learnToolsVersion\": \"0.3.4\", \"failureMessage\": \"\", \"exceptionClass\": \"\", \"trace\": \"\"}}, \"*\")"
      ],
      "text/plain": [
       "<IPython.core.display.Javascript object>"
      ]
     },
     "metadata": {},
     "output_type": "display_data"
    },
    {
     "data": {
      "text/markdown": [
       "<span style=\"color:#33cc33\">Correct:</span> \n",
       "\n",
       "The early stopping callback did stop the training once the network began overfitting. Moreover, by including `restore_best_weights` we still get to keep the model where validation loss was lowest."
      ],
      "text/plain": [
       "Correct: \n",
       "\n",
       "The early stopping callback did stop the training once the network began overfitting. Moreover, by including `restore_best_weights` we still get to keep the model where validation loss was lowest."
      ]
     },
     "metadata": {},
     "output_type": "display_data"
    }
   ],
   "source": [
    "# View the solution (Run this cell to receive credit!)\n",
    "q_4.check()"
   ]
  },
  {
   "cell_type": "markdown",
   "id": "856a0f18",
   "metadata": {
    "papermill": {
     "duration": 0.024612,
     "end_time": "2025-01-13T17:25:34.864982",
     "exception": false,
     "start_time": "2025-01-13T17:25:34.840370",
     "status": "completed"
    },
    "tags": []
   },
   "source": [
    "If you like, try experimenting with `patience` and `min_delta` to see what difference it might make.\n",
    "\n",
    "# Keep Going #\n",
    "\n",
    "Move on to [**learn about a couple of special layers**](https://www.kaggle.com/ryanholbrook/dropout-and-batch-normalization): batch normalization and dropout."
   ]
  },
  {
   "cell_type": "markdown",
   "id": "b4619e4e",
   "metadata": {
    "papermill": {
     "duration": 0.024471,
     "end_time": "2025-01-13T17:25:34.914427",
     "exception": false,
     "start_time": "2025-01-13T17:25:34.889956",
     "status": "completed"
    },
    "tags": []
   },
   "source": [
    "---\n",
    "\n",
    "\n",
    "\n",
    "\n",
    "*Have questions or comments? Visit the [course discussion forum](https://www.kaggle.com/learn/intro-to-deep-learning/discussion) to chat with other learners.*"
   ]
  }
 ],
 "metadata": {
  "jupytext": {
   "cell_metadata_filter": "-all",
   "formats": "ipynb"
  },
  "kaggle": {
   "accelerator": "gpu",
   "dataSources": [
    {
     "datasetId": 829369,
     "sourceId": 1480608,
     "sourceType": "datasetVersion"
    }
   ],
   "dockerImageVersionId": 30648,
   "isGpuEnabled": true,
   "isInternetEnabled": false,
   "language": "python",
   "sourceType": "notebook"
  },
  "kernelspec": {
   "display_name": "Python 3",
   "language": "python",
   "name": "python3"
  },
  "language_info": {
   "codemirror_mode": {
    "name": "ipython",
    "version": 3
   },
   "file_extension": ".py",
   "mimetype": "text/x-python",
   "name": "python",
   "nbconvert_exporter": "python",
   "pygments_lexer": "ipython3",
   "version": "3.10.13"
  },
  "papermill": {
   "default_parameters": {},
   "duration": 46.122697,
   "end_time": "2025-01-13T17:25:36.674740",
   "environment_variables": {},
   "exception": null,
   "input_path": "__notebook__.ipynb",
   "output_path": "__notebook__.ipynb",
   "parameters": {},
   "start_time": "2025-01-13T17:24:50.552043",
   "version": "2.5.0"
  }
 },
 "nbformat": 4,
 "nbformat_minor": 5
}
