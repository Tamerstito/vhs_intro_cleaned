{
  "nbformat": 4,
  "nbformat_minor": 0,
  "metadata": {
    "colab": {
      "provenance": [],
      "toc_visible": true,
      "include_colab_link": true
    },
    "kernelspec": {
      "name": "python3",
      "display_name": "Python 3"
    },
    "language_info": {
      "name": "python"
    }
  },
  "cells": [
    {
      "cell_type": "markdown",
      "metadata": {
        "id": "view-in-github",
        "colab_type": "text"
      },
      "source": [
        "<a href=\"https://colab.research.google.com/github/Tamerstito/vhs-intro-ai/blob/main/python_ai_part1.ipynb\" target=\"_parent\"><img src=\"https://colab.research.google.com/assets/colab-badge.svg\" alt=\"Open In Colab\"/></a>"
      ]
    },
    {
      "cell_type": "markdown",
      "source": [
        "In this tutorial, we will cover Basic Python in this Google Colab environment.\n",
        "\n",
        "\n",
        "\n",
        "1.   Basic data types (Containers, Lists, Dictionaries)\n",
        "2.   Functions\n",
        "3.   Classes\n",
        "\n",
        "\n",
        "\n",
        "\n",
        "\n"
      ],
      "metadata": {
        "id": "2az3t672znAH"
      }
    },
    {
      "cell_type": "markdown",
      "source": [
        "# A Brief Note on Python Versions\n",
        "As of Janurary 1, 2020, Python has officially dropped support for python2. We'll be using Python 3.7 for this iteration of the course. You can check your Python version at the command line by running `python --version`. In Colab, we can enforce the Python version by clicking `Runtime -> Change Runtime Type` and selecting `python3`. Note that as of April 2020, Colab uses Python 3.6.9 which should run everything without any errors."
      ],
      "metadata": {
        "id": "DD2ORk0O0bdi"
      }
    },
    {
      "cell_type": "code",
      "source": [
        "# Check python version\n",
        "!python --version"
      ],
      "metadata": {
        "id": "j9YZ0Lly0oEk",
        "colab": {
          "base_uri": "https://localhost:8080/"
        },
        "outputId": "c9e65a7c-9f91-4829-e5f5-5be2808c1b80"
      },
      "execution_count": null,
      "outputs": [
        {
          "output_type": "stream",
          "name": "stdout",
          "text": [
            "Python 3.10.12\n"
          ]
        }
      ]
    },
    {
      "cell_type": "markdown",
      "source": [
        "* Python is a high-level, *dynamically typed* multiparadigm programming language.\n",
        "* Python code is often said to be *almost like pseudocode*, since it allows you to express very powerful ideas in very few lines of code while being very readable.\n",
        "\n",
        "As an example, here is an implementation of the classic quicksort algorithm in Python:"
      ],
      "metadata": {
        "id": "OLDJ_vc_2Uot"
      }
    },
    {
      "cell_type": "markdown",
      "source": [
        "**What do we mean by dynamically typed programming language?**\n",
        "\n",
        "There is no need to specify what type of variable needs to be used. A datatype is assigned at runtime based on the value given to the variable\n",
        "\n"
      ],
      "metadata": {
        "id": "mMuoNTFB2mKW"
      }
    },
    {
      "cell_type": "code",
      "source": [
        "def quicksort(arr):\n",
        "    if len(arr) <= 1:\n",
        "        return arr\n",
        "    pivot = arr[len(arr) // 2]\n",
        "    left = [x for x in arr if x < pivot]\n",
        "    middle = [x for x in arr if x == pivot]\n",
        "    right = [x for x in arr if x > pivot]\n",
        "    return quicksort(left) + middle + quicksort(right)\n",
        "\n",
        "print(quicksort([3,6,8,10,1,2,1]))"
      ],
      "metadata": {
        "colab": {
          "base_uri": "https://localhost:8080/"
        },
        "id": "l9jydL0226x3",
        "outputId": "42d1b78f-9414-4e8c-f6d2-e2c8b375703f"
      },
      "execution_count": null,
      "outputs": [
        {
          "output_type": "stream",
          "name": "stdout",
          "text": [
            "[1, 1, 2, 3, 6, 8, 10]\n"
          ]
        }
      ]
    },
    {
      "cell_type": "markdown",
      "source": [
        "# Basic Data Types"
      ],
      "metadata": {
        "id": "4hPpHf2I3Utu"
      }
    },
    {
      "cell_type": "markdown",
      "source": [
        "## Numbers"
      ],
      "metadata": {
        "id": "q7mS-EHb3Xtp"
      }
    },
    {
      "cell_type": "markdown",
      "source": [
        "Integers and floats work as you would expect from other languages like Java:"
      ],
      "metadata": {
        "id": "Ue72mETr3jvL"
      }
    },
    {
      "cell_type": "code",
      "source": [
        "# create a variable x, initialize it to 10\n",
        "# print x and its data type\n",
        "\n",
        "x = 10\n",
        "print(x, type(x))"
      ],
      "metadata": {
        "colab": {
          "base_uri": "https://localhost:8080/"
        },
        "id": "ClYtUXGy3aPL",
        "outputId": "87401934-84df-4c12-c3ad-d85d21a459af"
      },
      "execution_count": null,
      "outputs": [
        {
          "output_type": "stream",
          "name": "stdout",
          "text": [
            "10 <class 'int'>\n"
          ]
        }
      ]
    },
    {
      "cell_type": "code",
      "source": [
        "# Addition - add 1 to x and print\n",
        "\n",
        "x += 1\n",
        "print(x)\n",
        "\n",
        "# Subtraction - subtract 1 from x and print\n",
        "\n",
        "x -= 1\n",
        "print(x)\n",
        "\n",
        "# Multiplication - multiply x by 2 and print\n",
        "x *= 2\n",
        "print(x)\n",
        "\n",
        "# Exponentiation - print the result of x to the power of 2\n",
        "\n",
        "x **= 2\n",
        "print(x)\n"
      ],
      "metadata": {
        "id": "daQrgt4R38ub",
        "colab": {
          "base_uri": "https://localhost:8080/"
        },
        "outputId": "69a43201-3a76-46fb-df7e-d13db1779478"
      },
      "execution_count": null,
      "outputs": [
        {
          "output_type": "stream",
          "name": "stdout",
          "text": [
            "11\n",
            "10\n",
            "20\n",
            "400\n"
          ]
        }
      ]
    },
    {
      "cell_type": "code",
      "source": [
        "# Increment x by 2, save it to itself and print\n",
        "\n",
        "x += 2\n",
        "print(x)\n",
        "\n",
        "# Decrement x by 2, save it to itself and print\n",
        "\n",
        "x-=2\n",
        "print(x)\n",
        "\n",
        "# Multiply x by 2, save it to itself and print\n",
        "\n",
        "x*=2\n",
        "print(x)\n",
        "\n",
        "# Divide x by 2, save it to itself and print\n",
        "\n",
        "x/=2\n",
        "print(x)\n"
      ],
      "metadata": {
        "id": "yvZQyNiV4Yhv",
        "colab": {
          "base_uri": "https://localhost:8080/"
        },
        "outputId": "2acf3c79-2206-42ae-de1a-52fc75af7996"
      },
      "execution_count": null,
      "outputs": [
        {
          "output_type": "stream",
          "name": "stdout",
          "text": [
            "402\n",
            "400\n",
            "800\n",
            "400.0\n"
          ]
        }
      ]
    },
    {
      "cell_type": "code",
      "source": [
        "# Working with floats\n",
        "y = 2.5\n",
        "\n",
        "# print type of y\n",
        "print(type(y))\n",
        "\n",
        "# ADD CODE HERE\n",
        "\n",
        "print(y, y + 1, y * 2, y ** 2)"
      ],
      "metadata": {
        "id": "F3l9h42g466v",
        "colab": {
          "base_uri": "https://localhost:8080/"
        },
        "outputId": "7462c8d3-265f-47a6-ec62-86d50d94f20b"
      },
      "execution_count": null,
      "outputs": [
        {
          "output_type": "stream",
          "name": "stdout",
          "text": [
            "<class 'float'>\n",
            "2.5 3.5 5.0 6.25\n"
          ]
        }
      ]
    },
    {
      "cell_type": "markdown",
      "source": [
        "Note that unlike many languages, Python does not have unary increment (x++) or decrement (x--) operators."
      ],
      "metadata": {
        "id": "qfLsxinN5G0v"
      }
    },
    {
      "cell_type": "markdown",
      "source": [
        "## Booleans"
      ],
      "metadata": {
        "id": "ESiMO9JD5N2N"
      }
    },
    {
      "cell_type": "markdown",
      "source": [
        "Python implements all of the usual operators for Boolean logic, but uses English words rather than symbols (&&, ||, etc.):"
      ],
      "metadata": {
        "id": "gQfECIeD5by6"
      }
    },
    {
      "cell_type": "code",
      "source": [
        "t, f = True, False\n",
        "\n",
        "# print type of t and f\n",
        "print(type(t))\n",
        "print(type(f))"
      ],
      "metadata": {
        "id": "RODV_UsP5GVv",
        "colab": {
          "base_uri": "https://localhost:8080/"
        },
        "outputId": "0281871c-1838-4e1d-a0c3-c9271085f3cf"
      },
      "execution_count": null,
      "outputs": [
        {
          "output_type": "stream",
          "name": "stdout",
          "text": [
            "<class 'bool'>\n",
            "<class 'bool'>\n"
          ]
        }
      ]
    },
    {
      "cell_type": "code",
      "source": [
        "# Logical AND\n",
        "andd = t and f\n",
        "print(andd)\n",
        "# Logical OR\n",
        "orr = t or f\n",
        "print(orr)\n",
        "# Logical NOT\n",
        "nott = not t\n",
        "print (nott)\n",
        "# Logical XOR\n",
        "xorr = t ^ f\n",
        "print(xorr)\n"
      ],
      "metadata": {
        "id": "ZrBnT12t5JR_",
        "colab": {
          "base_uri": "https://localhost:8080/"
        },
        "outputId": "e4f07882-5548-4837-8fc9-fd8fa952ddaf"
      },
      "execution_count": null,
      "outputs": [
        {
          "output_type": "stream",
          "name": "stdout",
          "text": [
            "False\n",
            "True\n",
            "False\n",
            "True\n"
          ]
        }
      ]
    },
    {
      "cell_type": "markdown",
      "source": [
        "## Strings"
      ],
      "metadata": {
        "id": "8qD7Uf3K6UQ-"
      }
    },
    {
      "cell_type": "code",
      "source": [
        "hello = 'hello'   # String literals can use single quotes\n",
        "world = \"world\"   # or double quotes; it does not matter\n",
        "\n",
        "# print hello and its length\n",
        "print(hello, len(hello))\n",
        "# ADD CODE HERE\n"
      ],
      "metadata": {
        "id": "HdBSUeYt6BVg",
        "colab": {
          "base_uri": "https://localhost:8080/"
        },
        "outputId": "99cb1865-40ef-49bc-df66-ebed74969df0"
      },
      "execution_count": null,
      "outputs": [
        {
          "output_type": "stream",
          "name": "stdout",
          "text": [
            "hello 5\n"
          ]
        }
      ]
    },
    {
      "cell_type": "code",
      "source": [
        "hw12 = '{} {} {}'.format(hello, world, 12)  # string formatting\n",
        "print(hw12)"
      ],
      "metadata": {
        "colab": {
          "base_uri": "https://localhost:8080/"
        },
        "id": "sZ3ubOPu6PUR",
        "outputId": "2fd02629-7eab-41f7-ab1a-890b7fe74f7f"
      },
      "execution_count": null,
      "outputs": [
        {
          "output_type": "stream",
          "name": "stdout",
          "text": [
            "hello world 12\n"
          ]
        }
      ]
    },
    {
      "cell_type": "markdown",
      "source": [
        "String objects have a bunch of useful methods; for example:"
      ],
      "metadata": {
        "id": "ynxnxFiD6c3-"
      }
    },
    {
      "cell_type": "code",
      "source": [
        "s = \"hello\"\n",
        "# Capitalize a string\n",
        "\n",
        "print(s.capitalize())\n",
        "\n",
        "# Convert a string to uppercase; prints \"HELLO\"\n",
        "\n",
        "print(s.upper())\n",
        "\n",
        "# Right-justify a string, padding with spaces\n",
        "\n",
        "print(s.rjust(7))\n",
        "\n",
        "# Center a string, padding with spaces\n",
        "\n",
        "print(s.center(100))\n",
        "\n",
        "# Replace all instances of one substring with another\n",
        "\n",
        "print(s.replace('l', 'el'))\n",
        "\n",
        "# Strip leading and trailing whitespace\n",
        "\n",
        "print(s.strip())"
      ],
      "metadata": {
        "id": "RHHTVH8B6e1S",
        "colab": {
          "base_uri": "https://localhost:8080/"
        },
        "outputId": "adb48f9d-dc31-491f-cb63-17372249d782"
      },
      "execution_count": null,
      "outputs": [
        {
          "output_type": "stream",
          "name": "stdout",
          "text": [
            "Hello\n",
            "HELLO\n",
            "  hello\n",
            "                                               hello                                                \n",
            "heelelo\n",
            "hello\n"
          ]
        }
      ]
    },
    {
      "cell_type": "markdown",
      "source": [
        "# Containers"
      ],
      "metadata": {
        "id": "HhSLReQ869M_"
      }
    },
    {
      "cell_type": "markdown",
      "source": [
        "## Lists"
      ],
      "metadata": {
        "id": "H9t7Sgv27Jkr"
      }
    },
    {
      "cell_type": "markdown",
      "source": [
        "A list is the Python equivalent of an array, but is resizeable and can contain elements of different types:"
      ],
      "metadata": {
        "id": "Ns64Dnhx7Pzo"
      }
    },
    {
      "cell_type": "code",
      "source": [
        "xs = [3, 1, 2]   # Create a list\n",
        "\n",
        "# print the list\n",
        "\n",
        "print(xs)\n",
        "\n",
        "# print the length of the list\n",
        "\n",
        "print(len(xs))\n",
        "\n",
        "# print the second element in the list\n",
        "\n",
        "print(xs[1])\n",
        "\n",
        "# Negative indices count from the end of the list; print the element \"2\"\n",
        "\n",
        "print(xs[-1])"
      ],
      "metadata": {
        "id": "zsWBt4Pj68r8",
        "colab": {
          "base_uri": "https://localhost:8080/"
        },
        "outputId": "44f97c96-9f30-4bbd-cf26-785103f49e5e"
      },
      "execution_count": null,
      "outputs": [
        {
          "output_type": "stream",
          "name": "stdout",
          "text": [
            "[3, 1, 2]\n",
            "3\n",
            "1\n",
            "2\n"
          ]
        }
      ]
    },
    {
      "cell_type": "code",
      "source": [
        "# Lists can contain elements of different types\n",
        "\n",
        "# Set element at index 2 of the list to a string 'foo'\n",
        "\n",
        "xs[2] = 'foo'\n",
        "\n",
        "print(xs)"
      ],
      "metadata": {
        "id": "8MCLQ3yVAqQV",
        "colab": {
          "base_uri": "https://localhost:8080/"
        },
        "outputId": "3af8a735-86ae-46e9-c9e0-33413707d4e8"
      },
      "execution_count": null,
      "outputs": [
        {
          "output_type": "stream",
          "name": "stdout",
          "text": [
            "[3, 1, 'foo']\n"
          ]
        }
      ]
    },
    {
      "cell_type": "code",
      "source": [
        "# Add a new element - string 'bar' - to the end of the list\n",
        "\n",
        "xs.append('bar')\n",
        "\n",
        "print(xs)"
      ],
      "metadata": {
        "id": "iRlNjDFUBGoe",
        "colab": {
          "base_uri": "https://localhost:8080/"
        },
        "outputId": "6dbc16bb-422d-47e5-ccd2-0b1d13afdae6"
      },
      "execution_count": null,
      "outputs": [
        {
          "output_type": "stream",
          "name": "stdout",
          "text": [
            "[3, 1, 'foo', 'bar']\n"
          ]
        }
      ]
    },
    {
      "cell_type": "code",
      "source": [
        "# Remove and return the last element of the list\n",
        "\n",
        "x = xs.pop()\n",
        "\n",
        "print(x, xs)"
      ],
      "metadata": {
        "id": "d_0TAsPtBS4k",
        "colab": {
          "base_uri": "https://localhost:8080/"
        },
        "outputId": "be18854d-0237-46f4-b00a-c243a25b7407"
      },
      "execution_count": null,
      "outputs": [
        {
          "output_type": "stream",
          "name": "stdout",
          "text": [
            "bar [3, 1, 'foo']\n"
          ]
        }
      ]
    },
    {
      "cell_type": "markdown",
      "source": [
        "## Slicing"
      ],
      "metadata": {
        "id": "hKiz7YBIaVnB"
      }
    },
    {
      "cell_type": "markdown",
      "source": [
        "In addition to accessing list elements one at a time, Python provides concise syntax to access sublists; this is known as slicing:"
      ],
      "metadata": {
        "id": "XLeepwNgageS"
      }
    },
    {
      "cell_type": "code",
      "source": [
        "# range is a built-in function that creates a list of integers\n",
        "nums = list(range(5))\n",
        "print(nums)"
      ],
      "metadata": {
        "colab": {
          "base_uri": "https://localhost:8080/"
        },
        "id": "zafM-YCBaaOm",
        "outputId": "19ee3c06-dde0-49d4-b82a-7056b425da64"
      },
      "execution_count": null,
      "outputs": [
        {
          "output_type": "stream",
          "name": "stdout",
          "text": [
            "[0, 1, 2, 3, 4]\n"
          ]
        }
      ]
    },
    {
      "cell_type": "code",
      "source": [
        "# Get a slice from index 2 to 4 (exclusive); prints \"[2, 3]\"\n",
        "\n",
        "print(nums[2:4])\n"
      ],
      "metadata": {
        "id": "BaJg4qvEaynt",
        "colab": {
          "base_uri": "https://localhost:8080/"
        },
        "outputId": "dcda0722-59a1-47ce-fcbe-93bc4957a169"
      },
      "execution_count": null,
      "outputs": [
        {
          "output_type": "stream",
          "name": "stdout",
          "text": [
            "[2, 3]\n"
          ]
        }
      ]
    },
    {
      "cell_type": "code",
      "source": [
        "# Get a slice from index 2 to the end; prints \"[2, 3, 4]\"\n",
        "\n",
        "print(nums[2:])\n"
      ],
      "metadata": {
        "id": "jExwiX0Wa4mm",
        "colab": {
          "base_uri": "https://localhost:8080/"
        },
        "outputId": "e7724fa3-3bb3-4566-c82b-caf7d415ef12"
      },
      "execution_count": null,
      "outputs": [
        {
          "output_type": "stream",
          "name": "stdout",
          "text": [
            "[2, 3, 4]\n"
          ]
        }
      ]
    },
    {
      "cell_type": "code",
      "source": [
        "# Get a slice from the start to index 2 (exclusive); prints \"[0, 1]\"\n",
        "\n",
        "print(nums[:2])"
      ],
      "metadata": {
        "id": "g0Vd7B0sbFWr",
        "colab": {
          "base_uri": "https://localhost:8080/"
        },
        "outputId": "43072f95-567f-49fa-9283-84c18254f190"
      },
      "execution_count": null,
      "outputs": [
        {
          "output_type": "stream",
          "name": "stdout",
          "text": [
            "[0, 1]\n"
          ]
        }
      ]
    },
    {
      "cell_type": "code",
      "source": [
        "# Get a slice of the whole list; prints [\"0, 1, 2, 3, 4]\"\n",
        "\n",
        "print(nums[0:])"
      ],
      "metadata": {
        "id": "IvPLmeNrbXeC",
        "colab": {
          "base_uri": "https://localhost:8080/"
        },
        "outputId": "3ff425b7-6117-48f6-d45d-c19f4955de9d"
      },
      "execution_count": null,
      "outputs": [
        {
          "output_type": "stream",
          "name": "stdout",
          "text": [
            "[0, 1, 2, 3, 4]\n"
          ]
        }
      ]
    },
    {
      "cell_type": "code",
      "source": [
        "# Slice indices can be negative; prints [\"0, 1, 2, 3]\"\n",
        "\n",
        "print(nums[:-1])"
      ],
      "metadata": {
        "id": "NgKFY5T0bZuV",
        "colab": {
          "base_uri": "https://localhost:8080/"
        },
        "outputId": "3481223f-d0a9-411f-ed4f-4b3ab75feb61"
      },
      "execution_count": null,
      "outputs": [
        {
          "output_type": "stream",
          "name": "stdout",
          "text": [
            "[0, 1, 2, 3]\n"
          ]
        }
      ]
    },
    {
      "cell_type": "code",
      "source": [
        "nums[2:4] = [8, 9] # Assign a new sublist to a slice\n",
        "print(nums)         # Prints \"[0, 1, 8, 9, 4]\""
      ],
      "metadata": {
        "colab": {
          "base_uri": "https://localhost:8080/"
        },
        "id": "I-PZQ9aWbiBC",
        "outputId": "f7dd2b02-639f-4242-8b23-7976b253e597"
      },
      "execution_count": null,
      "outputs": [
        {
          "output_type": "stream",
          "name": "stdout",
          "text": [
            "[0, 1, 8, 9, 4]\n"
          ]
        }
      ]
    },
    {
      "cell_type": "markdown",
      "source": [
        "## Loops"
      ],
      "metadata": {
        "id": "tXPQ0rqHbpMs"
      }
    },
    {
      "cell_type": "markdown",
      "source": [
        "You can loop over the elements of a list like this:"
      ],
      "metadata": {
        "id": "oyn0_jUybxHd"
      }
    },
    {
      "cell_type": "code",
      "source": [
        "animals = ['cat', 'dog', 'monkey']\n",
        "for animal in animals:\n",
        "    print(animal)"
      ],
      "metadata": {
        "colab": {
          "base_uri": "https://localhost:8080/"
        },
        "id": "BnOHl3Q-bsVu",
        "outputId": "2c45155b-a1b0-4302-c03d-cedefd8b7dc6"
      },
      "execution_count": null,
      "outputs": [
        {
          "output_type": "stream",
          "name": "stdout",
          "text": [
            "cat\n",
            "dog\n",
            "monkey\n"
          ]
        }
      ]
    },
    {
      "cell_type": "markdown",
      "source": [
        "If you want access to the index of each element within the body of a loop, use the built-in `enumerate` function:"
      ],
      "metadata": {
        "id": "ufzAK2jwcxNh"
      }
    },
    {
      "cell_type": "code",
      "source": [
        "animals = ['cat', 'dog', 'monkey']\n",
        "for idx, animal in enumerate(animals):\n",
        "    # print a numbered list of the animals\n",
        "    print(idx, animal)"
      ],
      "metadata": {
        "id": "IGalXl52csd3",
        "colab": {
          "base_uri": "https://localhost:8080/"
        },
        "outputId": "feff7502-ec4a-4c7c-994e-f91372b24945"
      },
      "execution_count": null,
      "outputs": [
        {
          "output_type": "stream",
          "name": "stdout",
          "text": [
            "0 cat\n",
            "1 dog\n",
            "2 monkey\n"
          ]
        }
      ]
    },
    {
      "cell_type": "markdown",
      "source": [
        "## List comprehensions"
      ],
      "metadata": {
        "id": "YPVtnoINc-az"
      }
    },
    {
      "cell_type": "markdown",
      "source": [
        "When programming, frequently we want to transform one type of data into another. As a simple example, consider the following code that computes square numbers:"
      ],
      "metadata": {
        "id": "oEFaZjKtdK6S"
      }
    },
    {
      "cell_type": "code",
      "source": [
        "nums = [0, 1, 2, 3, 4]\n",
        "squares = []\n",
        "for x in nums:\n",
        "    squares.append(x ** 2)\n",
        "print(squares)"
      ],
      "metadata": {
        "colab": {
          "base_uri": "https://localhost:8080/"
        },
        "id": "SLtVOHEHdCea",
        "outputId": "d8b2f153-0c1d-4289-ab9a-e0f668a855f5"
      },
      "execution_count": null,
      "outputs": [
        {
          "output_type": "stream",
          "name": "stdout",
          "text": [
            "[0, 1, 4, 9, 16]\n"
          ]
        }
      ]
    },
    {
      "cell_type": "markdown",
      "source": [
        "You can make this code simpler using a list comprehension:"
      ],
      "metadata": {
        "id": "q4lOgDYbdTXK"
      }
    },
    {
      "cell_type": "code",
      "source": [
        "nums = [0, 1, 2, 3, 4]\n",
        "\n",
        "squares = [x**2 for x in nums]\n",
        "\n",
        "print(squares)"
      ],
      "metadata": {
        "id": "ZWRbVvFSdSf-",
        "colab": {
          "base_uri": "https://localhost:8080/"
        },
        "outputId": "6c90bc06-a37d-4587-ea0f-07a6d3ef7f24"
      },
      "execution_count": null,
      "outputs": [
        {
          "output_type": "stream",
          "name": "stdout",
          "text": [
            "[0, 1, 4, 9, 16]\n"
          ]
        }
      ]
    },
    {
      "cell_type": "markdown",
      "source": [
        "List comprehensions can also contain conditions:"
      ],
      "metadata": {
        "id": "H1v0jVFfdhKP"
      }
    },
    {
      "cell_type": "code",
      "source": [
        "nums = [0, 1, 2, 3, 4]\n",
        "even_squares = [x**2 for x in nums if x % 2 ==0]\n",
        "print(even_squares)"
      ],
      "metadata": {
        "id": "qQxvWJ-Ydh1N",
        "colab": {
          "base_uri": "https://localhost:8080/"
        },
        "outputId": "96ec7115-f2ee-49f8-a8db-d8b030c94969"
      },
      "execution_count": null,
      "outputs": [
        {
          "output_type": "stream",
          "name": "stdout",
          "text": [
            "[0, 4, 16]\n"
          ]
        }
      ]
    },
    {
      "cell_type": "markdown",
      "source": [
        "## Dictionary"
      ],
      "metadata": {
        "id": "ZCErNLhtdqgK"
      }
    },
    {
      "cell_type": "markdown",
      "source": [
        "A dictionary stores (key, value) pairs, similar to a `Map` in Java or an object in Javascript. You can use it like this:"
      ],
      "metadata": {
        "id": "loOOT2GwdwDX"
      }
    },
    {
      "cell_type": "code",
      "source": [
        "d = {'cat': 'cute', 'dog': 'furry'}  # Create a new dictionary with some data\n",
        "\n",
        "# Get an entry from a dictionary; prints \"cute\"\n",
        "\n",
        "print(d['cat'])\n",
        "\n",
        "# Check if a dictionary has a given key; prints \"True\"\n",
        "\n",
        "print('cat' in d)\n"
      ],
      "metadata": {
        "id": "cfdWLNEedsaA",
        "colab": {
          "base_uri": "https://localhost:8080/"
        },
        "outputId": "72ed4fd3-4968-4ee8-d692-5e063a22b7c8"
      },
      "execution_count": null,
      "outputs": [
        {
          "output_type": "stream",
          "name": "stdout",
          "text": [
            "cute\n",
            "True\n"
          ]
        }
      ]
    },
    {
      "cell_type": "code",
      "source": [
        "d['fish'] = 'wet'    # Set an entry in a dictionary\n",
        "print(d['fish'])      # Prints \"wet\""
      ],
      "metadata": {
        "id": "N3VLhaoheFqb",
        "colab": {
          "base_uri": "https://localhost:8080/"
        },
        "outputId": "6d67301a-fa11-4378-ea16-0032f3e5e8f1"
      },
      "execution_count": null,
      "outputs": [
        {
          "output_type": "stream",
          "name": "stdout",
          "text": [
            "wet\n"
          ]
        }
      ]
    },
    {
      "cell_type": "code",
      "source": [],
      "metadata": {
        "id": "kKgObCXMeKz0",
        "collapsed": true
      },
      "execution_count": null,
      "outputs": []
    },
    {
      "cell_type": "code",
      "source": [
        "print(d.get('monkey', 'N/A'))  # Get an element with a default; prints \"N/A\"\n",
        "print(d.get('fish', 'N/A'))    # Get an element with a default; prints \"wet\""
      ],
      "metadata": {
        "id": "x7RyxMjseSEr",
        "colab": {
          "base_uri": "https://localhost:8080/"
        },
        "outputId": "4c97a5d8-f29c-423b-8457-bcf4725c9201"
      },
      "execution_count": null,
      "outputs": [
        {
          "output_type": "stream",
          "name": "stdout",
          "text": [
            "N/A\n",
            "wet\n"
          ]
        }
      ]
    },
    {
      "cell_type": "code",
      "source": [
        "del d['fish']        # Remove an element from a dictionary\n",
        "print(d.get('fish', 'N/A')) # \"fish\" is no longer a key; prints \"N/A\""
      ],
      "metadata": {
        "id": "mRkAVvyVeZls",
        "colab": {
          "base_uri": "https://localhost:8080/"
        },
        "outputId": "213dfa41-6df8-408f-ce38-4d1d6954e565"
      },
      "execution_count": null,
      "outputs": [
        {
          "output_type": "stream",
          "name": "stdout",
          "text": [
            "N/A\n"
          ]
        }
      ]
    },
    {
      "cell_type": "markdown",
      "source": [
        "It is easy to iterate over the keys in a dictionary:"
      ],
      "metadata": {
        "id": "y3LEjxZEefKt"
      }
    },
    {
      "cell_type": "code",
      "source": [
        "d = {'person': 2, 'cat': 4, 'spider': 8}\n",
        "for animal, legs in d.items():\n",
        "    print('A {} has {} legs'.format(animal, legs))"
      ],
      "metadata": {
        "id": "KubrxQT6ef1b",
        "colab": {
          "base_uri": "https://localhost:8080/"
        },
        "outputId": "1875f106-92c3-481e-d4e3-58b38faf1038"
      },
      "execution_count": null,
      "outputs": [
        {
          "output_type": "stream",
          "name": "stdout",
          "text": [
            "A person has 2 legs\n",
            "A cat has 4 legs\n",
            "A spider has 8 legs\n"
          ]
        }
      ]
    },
    {
      "cell_type": "markdown",
      "source": [
        "Dictionary comprehensions: These are similar to list comprehensions, but allow you to easily construct dictionaries. For example:"
      ],
      "metadata": {
        "id": "pJ__ZELBetbt"
      }
    },
    {
      "cell_type": "code",
      "source": [
        "nums = [0, 1, 2, 3, 4]\n",
        "even_num_to_square = {x: x ** 2 for x in nums if x % 2 == 0}\n",
        "print(even_num_to_square)"
      ],
      "metadata": {
        "id": "10ay_uO4enhE",
        "colab": {
          "base_uri": "https://localhost:8080/"
        },
        "outputId": "91b928df-8b95-4842-a253-00f12f19779a"
      },
      "execution_count": null,
      "outputs": [
        {
          "output_type": "stream",
          "name": "stdout",
          "text": [
            "{0: 0, 2: 4, 4: 16}\n"
          ]
        }
      ]
    },
    {
      "cell_type": "code",
      "source": [
        "# Print odd numbers squares using dictionary comprehensions\n",
        "\n",
        "odd_num_to_square = {x: x**2 for x in nums if x % 2 == 1}\n",
        "print(odd_num_to_square)"
      ],
      "metadata": {
        "id": "TttJElPxe30k",
        "colab": {
          "base_uri": "https://localhost:8080/"
        },
        "outputId": "712b7779-20cf-4cbc-cdc3-9d99b41968a6"
      },
      "execution_count": null,
      "outputs": [
        {
          "output_type": "stream",
          "name": "stdout",
          "text": [
            "{1: 1, 3: 9}\n"
          ]
        }
      ]
    },
    {
      "cell_type": "markdown",
      "source": [
        "# Functions\n",
        "\n",
        "Python functions are defined using the `def` keyword. For example:"
      ],
      "metadata": {
        "id": "C0JBMGiJgHF5"
      }
    },
    {
      "cell_type": "code",
      "source": [
        "nums = [-1, 0, 1]\n",
        "\n",
        "# Function to check the sign of the number\n",
        "\n",
        "def sign(x):\n",
        "  if(x < 0):\n",
        "    print(\"Positive\")\n",
        "  elif(x > 0):\n",
        "    print(\"Negative\")\n",
        "  else:\n",
        "    print(\"Zero\")\n",
        "\n",
        "for x in nums:\n",
        "    print(sign(x))"
      ],
      "metadata": {
        "id": "y5AYrQQDfM0o",
        "colab": {
          "base_uri": "https://localhost:8080/"
        },
        "outputId": "42d069c6-27d0-47a2-eae8-ec5a16c32e03"
      },
      "execution_count": null,
      "outputs": [
        {
          "output_type": "stream",
          "name": "stdout",
          "text": [
            "Positive\n",
            "None\n",
            "Zero\n",
            "None\n",
            "Negative\n",
            "None\n"
          ]
        }
      ]
    },
    {
      "cell_type": "markdown",
      "source": [
        "We will often define functions to take optional keyword arguments, like this:"
      ],
      "metadata": {
        "id": "d1xk5kJHgn5o"
      }
    },
    {
      "cell_type": "code",
      "source": [
        "def hello(name, loud=False):\n",
        "    if loud:\n",
        "        print('HELLO, {}'.format(name.upper()))\n",
        "    else:\n",
        "        print('Hello, {}!'.format(name))\n",
        "\n",
        "hello('Bob')\n",
        "hello('Fred', loud=True)"
      ],
      "metadata": {
        "colab": {
          "base_uri": "https://localhost:8080/"
        },
        "id": "e-0ccFnYghBC",
        "outputId": "ffa8b748-9287-44d5-c39e-4a1f7ecc7f07"
      },
      "execution_count": null,
      "outputs": [
        {
          "output_type": "stream",
          "name": "stdout",
          "text": [
            "Hello, Bob!\n",
            "HELLO, FRED\n"
          ]
        }
      ]
    },
    {
      "cell_type": "markdown",
      "source": [
        "`main()` function\n",
        "\n",
        "`def main():`\n",
        "\n",
        "This defines the `main` function where the primary logic of your program will reside. You can include any code or function calls here.\n",
        "\n",
        "`if __name__ == \"__main__\":`\n",
        "\n",
        "This conditional statement checks if the script is being run directly (not imported as a module).\n",
        "`__name__` is a special variable that Python sets to `\"__main__\"` when the script is run directly. If the script is imported into another script, `__name__` will be set to the script's filename instead.\n",
        "If the script is being run directly, the `main()` function is called."
      ],
      "metadata": {
        "id": "4bRqXES1iKEJ"
      }
    },
    {
      "cell_type": "code",
      "source": [
        "def main():\n",
        "\n",
        "    print(\"This is the main function.\")\n",
        "\n",
        "    # Main code goes here\n",
        "    hello('Bob')\n",
        "    hello('Fred', loud=True)\n",
        "\n",
        "if __name__ == \"__main__\":\n",
        "    main()"
      ],
      "metadata": {
        "colab": {
          "base_uri": "https://localhost:8080/"
        },
        "id": "rKtuuxYniKe_",
        "outputId": "307ebf9b-5cbc-4d50-a132-81bbe6320495"
      },
      "execution_count": null,
      "outputs": [
        {
          "output_type": "stream",
          "name": "stdout",
          "text": [
            "This is the main function.\n",
            "Hello, Bob!\n",
            "HELLO, FRED\n"
          ]
        }
      ]
    },
    {
      "cell_type": "markdown",
      "source": [
        "# Classes\n",
        "\n",
        "The syntax for defining classes in Python is straightforward:"
      ],
      "metadata": {
        "id": "fvNgMSv3gyWX"
      }
    },
    {
      "cell_type": "code",
      "source": [
        "class Greeter:\n",
        "\n",
        "    # Constructor\n",
        "    def __init__(self, name):\n",
        "        self.name = name  # Create an instance variable\n",
        "\n",
        "    # Instance method\n",
        "    def greet(self, loud=False):\n",
        "        if loud:\n",
        "          print('HELLO, {}'.format(self.name.upper()))\n",
        "        else:\n",
        "          print('Hello, {}!'.format(self.name))\n",
        "\n",
        "g = Greeter('Fred')  # Construct an instance of the Greeter class\n",
        "g.greet()            # Call an instance method; prints \"Hello, Fred\"\n",
        "g.greet(loud=True)   # Call an instance method; prints \"HELLO, FRED!\""
      ],
      "metadata": {
        "id": "Lz3fNOprg2u2",
        "colab": {
          "base_uri": "https://localhost:8080/"
        },
        "outputId": "d4bb4720-9a29-4fec-cb92-a60ab06d394d"
      },
      "execution_count": null,
      "outputs": [
        {
          "output_type": "stream",
          "name": "stdout",
          "text": [
            "Hello, Fred!\n",
            "HELLO, FRED\n"
          ]
        }
      ]
    },
    {
      "cell_type": "markdown",
      "source": [
        "# Student Tracker Assignment:\n",
        "\n",
        "Create a simple program that allows a user to track and display student grades. This assignment focuses on the use of lists, dictionaries, and basic class structure."
      ],
      "metadata": {
        "id": "nXHauqhZhMTk"
      }
    },
    {
      "cell_type": "markdown",
      "source": [
        "Define a Student Class:\n",
        "\n",
        "The class should have the following attributes:\n",
        "\n",
        "\n",
        "*   `name` (string): The student's name.\n",
        "*   `grades` (dictionary): A dictionary where the keys are subjects and the values are grades.\n",
        "\n",
        "The class should have methods to:\n",
        "* Add or update a grade for a subject.\n",
        "* Display the student's information, including their grades."
      ],
      "metadata": {
        "id": "bJJBnqCnjZ3K"
      }
    },
    {
      "cell_type": "code",
      "source": [
        "class Student:\n",
        "  #Attributes\n",
        "  name = \"\"\n",
        "  grades = {}\n",
        "\n",
        "  #Constructors\n",
        "  def __init__(self, name, grades):\n",
        "    self.name = name\n",
        "    self.grades = grades\n",
        "\n",
        "  def __init__(self, name):\n",
        "    self.name = name\n",
        "\n",
        "  #Methods\n",
        "  def update_grade(self, subject, grade):\n",
        "    self.grades[subject] = grade\n",
        "\n",
        "  def display_student(self):\n",
        "    print(\"Name \" + self.name)\n",
        "    print(\"Grades: \")\n",
        "    for subject in self.grades:\n",
        "      print(subject, self.grades[subject])\n",
        "\n"
      ],
      "metadata": {
        "id": "iBgPkd5ChBhd"
      },
      "execution_count": null,
      "outputs": []
    },
    {
      "cell_type": "markdown",
      "source": [
        "Create a Function to Manage Students:\n",
        "\n",
        "This function will:\n",
        "1. Create a list of Student objects.\n",
        "2. Add grades for each student.\n",
        "3. Display all students' information.\n"
      ],
      "metadata": {
        "id": "_D8J7bPsj8I7"
      }
    },
    {
      "cell_type": "code",
      "source": [
        "def manage_students(students):\n",
        "  for student in students:\n",
        "    student.update_grade(\"Math\", 97)\n",
        "    student.update_grade(\"Science\", 83)\n",
        "    student.update_grade(\"English\", 92)\n",
        "    student.update_grade(\"History\", 93)\n",
        "    student.update_grade(\"Computer Science\", 100)\n",
        "    student.display_student()\n",
        "    print(\"\")"
      ],
      "metadata": {
        "id": "agarttRckEIm"
      },
      "execution_count": null,
      "outputs": []
    },
    {
      "cell_type": "markdown",
      "source": [
        "Implement the Main Program:\n",
        "\n",
        "Call the `manage_students` function to run the program."
      ],
      "metadata": {
        "id": "pVb4VsChkPEn"
      }
    },
    {
      "cell_type": "code",
      "source": [
        "if __name__ == \"__main__\":\n",
        "  students = [Student('Troy'), Student('Aadi'), Student('Youssef')]\n",
        "  manage_students(students)\n",
        "\n",
        "  students[0].update_grade(\"Science\", 95)\n",
        "  students[0].display_student()"
      ],
      "metadata": {
        "id": "8BirUnrPkUlN",
        "colab": {
          "base_uri": "https://localhost:8080/"
        },
        "outputId": "8b28f66b-aaae-4ffd-9fd4-652ac0a37e0b"
      },
      "execution_count": null,
      "outputs": [
        {
          "output_type": "stream",
          "name": "stdout",
          "text": [
            "Name Troy\n",
            "Grades: \n",
            "Math 97\n",
            "Science 83\n",
            "English 92\n",
            "History 93\n",
            "Computer Science 100\n",
            "\n",
            "Name Aadi\n",
            "Grades: \n",
            "Math 97\n",
            "Science 83\n",
            "English 92\n",
            "History 93\n",
            "Computer Science 100\n",
            "\n",
            "Name Youssef\n",
            "Grades: \n",
            "Math 97\n",
            "Science 83\n",
            "English 92\n",
            "History 93\n",
            "Computer Science 100\n",
            "\n",
            "Name Troy\n",
            "Grades: \n",
            "Math 97\n",
            "Science 95\n",
            "English 92\n",
            "History 93\n",
            "Computer Science 100\n"
          ]
        }
      ]
    }
  ]
}