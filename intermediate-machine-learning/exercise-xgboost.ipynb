{
 "cells": [
  {
   "cell_type": "markdown",
   "id": "67db3b80",
   "metadata": {
    "papermill": {
     "duration": 0.005303,
     "end_time": "2024-12-02T17:32:59.710829",
     "exception": false,
     "start_time": "2024-12-02T17:32:59.705526",
     "status": "completed"
    },
    "tags": []
   },
   "source": [
    "**This notebook is an exercise in the [Intermediate Machine Learning](https://www.kaggle.com/learn/intermediate-machine-learning) course.  You can reference the tutorial at [this link](https://www.kaggle.com/alexisbcook/xgboost).**\n",
    "\n",
    "---\n"
   ]
  },
  {
   "cell_type": "markdown",
   "id": "e8b3dcbf",
   "metadata": {
    "papermill": {
     "duration": 0.004055,
     "end_time": "2024-12-02T17:32:59.719404",
     "exception": false,
     "start_time": "2024-12-02T17:32:59.715349",
     "status": "completed"
    },
    "tags": []
   },
   "source": [
    "In this exercise, you will use your new knowledge to train a model with **gradient boosting**.\n",
    "\n",
    "# Setup\n",
    "\n",
    "The questions below will give you feedback on your work. Run the following cell to set up the feedback system."
   ]
  },
  {
   "cell_type": "code",
   "execution_count": 1,
   "id": "b0eac7a2",
   "metadata": {
    "execution": {
     "iopub.execute_input": "2024-12-02T17:32:59.730579Z",
     "iopub.status.busy": "2024-12-02T17:32:59.730076Z",
     "iopub.status.idle": "2024-12-02T17:33:03.080227Z",
     "shell.execute_reply": "2024-12-02T17:33:03.078787Z"
    },
    "papermill": {
     "duration": 3.358659,
     "end_time": "2024-12-02T17:33:03.082771",
     "exception": false,
     "start_time": "2024-12-02T17:32:59.724112",
     "status": "completed"
    },
    "tags": []
   },
   "outputs": [
    {
     "name": "stdout",
     "output_type": "stream",
     "text": [
      "Setup Complete\n"
     ]
    }
   ],
   "source": [
    "# Set up code checking\n",
    "import os\n",
    "if not os.path.exists(\"../input/train.csv\"):\n",
    "    os.symlink(\"../input/home-data-for-ml-course/train.csv\", \"../input/train.csv\")  \n",
    "    os.symlink(\"../input/home-data-for-ml-course/test.csv\", \"../input/test.csv\") \n",
    "from learntools.core import binder\n",
    "binder.bind(globals())\n",
    "from learntools.ml_intermediate.ex6 import *\n",
    "print(\"Setup Complete\")"
   ]
  },
  {
   "cell_type": "markdown",
   "id": "e3b93dfb",
   "metadata": {
    "papermill": {
     "duration": 0.004115,
     "end_time": "2024-12-02T17:33:03.091666",
     "exception": false,
     "start_time": "2024-12-02T17:33:03.087551",
     "status": "completed"
    },
    "tags": []
   },
   "source": [
    "You will work with the [Housing Prices Competition for Kaggle Learn Users](https://www.kaggle.com/c/home-data-for-ml-course) dataset from the previous exercise. \n",
    "\n",
    "![Ames Housing dataset image](https://storage.googleapis.com/kaggle-media/learn/images/lTJVG4e.png)\n",
    "\n",
    "Run the next code cell without changes to load the training and validation sets in `X_train`, `X_valid`, `y_train`, and `y_valid`.  The test set is loaded in `X_test`."
   ]
  },
  {
   "cell_type": "code",
   "execution_count": 2,
   "id": "540e4ad6",
   "metadata": {
    "execution": {
     "iopub.execute_input": "2024-12-02T17:33:03.102219Z",
     "iopub.status.busy": "2024-12-02T17:33:03.101821Z",
     "iopub.status.idle": "2024-12-02T17:33:03.254434Z",
     "shell.execute_reply": "2024-12-02T17:33:03.253168Z"
    },
    "papermill": {
     "duration": 0.160901,
     "end_time": "2024-12-02T17:33:03.256971",
     "exception": false,
     "start_time": "2024-12-02T17:33:03.096070",
     "status": "completed"
    },
    "tags": []
   },
   "outputs": [],
   "source": [
    "import pandas as pd\n",
    "from sklearn.model_selection import train_test_split\n",
    "\n",
    "# Read the data\n",
    "X = pd.read_csv('../input/train.csv', index_col='Id')\n",
    "X_test_full = pd.read_csv('../input/test.csv', index_col='Id')\n",
    "\n",
    "# Remove rows with missing target, separate target from predictors\n",
    "X.dropna(axis=0, subset=['SalePrice'], inplace=True)\n",
    "y = X.SalePrice              \n",
    "X.drop(['SalePrice'], axis=1, inplace=True)\n",
    "\n",
    "# Break off validation set from training data\n",
    "X_train_full, X_valid_full, y_train, y_valid = train_test_split(X, y, train_size=0.8, test_size=0.2,\n",
    "                                                                random_state=0)\n",
    "\n",
    "# \"Cardinality\" means the number of unique values in a column\n",
    "# Select categorical columns with relatively low cardinality (convenient but arbitrary)\n",
    "low_cardinality_cols = [cname for cname in X_train_full.columns if X_train_full[cname].nunique() < 10 and \n",
    "                        X_train_full[cname].dtype == \"object\"]\n",
    "\n",
    "# Select numeric columns\n",
    "numeric_cols = [cname for cname in X_train_full.columns if X_train_full[cname].dtype in ['int64', 'float64']]\n",
    "\n",
    "# Keep selected columns only\n",
    "my_cols = low_cardinality_cols + numeric_cols\n",
    "X_train = X_train_full[my_cols].copy()\n",
    "X_valid = X_valid_full[my_cols].copy()\n",
    "X_test = X_test_full[my_cols].copy()\n",
    "\n",
    "# One-hot encode the data (to shorten the code, we use pandas)\n",
    "X_train = pd.get_dummies(X_train)\n",
    "X_valid = pd.get_dummies(X_valid)\n",
    "X_test = pd.get_dummies(X_test)\n",
    "X_train, X_valid = X_train.align(X_valid, join='left', axis=1)\n",
    "X_train, X_test = X_train.align(X_test, join='left', axis=1)"
   ]
  },
  {
   "cell_type": "markdown",
   "id": "e7daba32",
   "metadata": {
    "papermill": {
     "duration": 0.004603,
     "end_time": "2024-12-02T17:33:03.266286",
     "exception": false,
     "start_time": "2024-12-02T17:33:03.261683",
     "status": "completed"
    },
    "tags": []
   },
   "source": [
    "# Step 1: Build model\n",
    "\n",
    "### Part A\n",
    "\n",
    "In this step, you'll build and train your first model with gradient boosting.\n",
    "\n",
    "- Begin by setting `my_model_1` to an XGBoost model.  Use the [XGBRegressor](https://xgboost.readthedocs.io/en/latest/python/python_api.html#xgboost.XGBRegressor) class, and set the random seed to 0 (`random_state=0`).  **Leave all other parameters as default.**\n",
    "- Then, fit the model to the training data in `X_train` and `y_train`."
   ]
  },
  {
   "cell_type": "code",
   "execution_count": 3,
   "id": "0aab1aa0",
   "metadata": {
    "execution": {
     "iopub.execute_input": "2024-12-02T17:33:03.276886Z",
     "iopub.status.busy": "2024-12-02T17:33:03.276491Z",
     "iopub.status.idle": "2024-12-02T17:33:03.714652Z",
     "shell.execute_reply": "2024-12-02T17:33:03.713503Z"
    },
    "papermill": {
     "duration": 0.446148,
     "end_time": "2024-12-02T17:33:03.716940",
     "exception": false,
     "start_time": "2024-12-02T17:33:03.270792",
     "status": "completed"
    },
    "tags": []
   },
   "outputs": [
    {
     "data": {
      "application/javascript": [
       "parent.postMessage({\"jupyterEvent\": \"custom.exercise_interaction\", \"data\": {\"outcomeType\": 1, \"valueTowardsCompletion\": 0.5, \"interactionType\": 1, \"questionType\": 2, \"questionId\": \"1.1_Model1A\", \"learnToolsVersion\": \"0.3.4\", \"failureMessage\": \"\", \"exceptionClass\": \"\", \"trace\": \"\"}}, \"*\")"
      ],
      "text/plain": [
       "<IPython.core.display.Javascript object>"
      ]
     },
     "metadata": {},
     "output_type": "display_data"
    },
    {
     "data": {
      "text/markdown": [
       "<span style=\"color:#33cc33\">Correct</span>"
      ],
      "text/plain": [
       "Correct"
      ]
     },
     "metadata": {},
     "output_type": "display_data"
    }
   ],
   "source": [
    "from xgboost import XGBRegressor\n",
    "\n",
    "# Define the model\n",
    "my_model_1 = XGBRegressor(random_state=0)\n",
    "\n",
    "# Fit the model\n",
    "my_model_1.fit(X_train, y_train)\n",
    "\n",
    "# Check your answer\n",
    "step_1.a.check()"
   ]
  },
  {
   "cell_type": "code",
   "execution_count": 4,
   "id": "a736ebf4",
   "metadata": {
    "execution": {
     "iopub.execute_input": "2024-12-02T17:33:03.729029Z",
     "iopub.status.busy": "2024-12-02T17:33:03.728668Z",
     "iopub.status.idle": "2024-12-02T17:33:03.732928Z",
     "shell.execute_reply": "2024-12-02T17:33:03.731730Z"
    },
    "papermill": {
     "duration": 0.012292,
     "end_time": "2024-12-02T17:33:03.734976",
     "exception": false,
     "start_time": "2024-12-02T17:33:03.722684",
     "status": "completed"
    },
    "tags": []
   },
   "outputs": [],
   "source": [
    "# Lines below will give you a hint or solution code\n",
    "#step_1.a.hint()\n",
    "#step_1.a.solution()"
   ]
  },
  {
   "cell_type": "markdown",
   "id": "13ee8dee",
   "metadata": {
    "papermill": {
     "duration": 0.004468,
     "end_time": "2024-12-02T17:33:03.744157",
     "exception": false,
     "start_time": "2024-12-02T17:33:03.739689",
     "status": "completed"
    },
    "tags": []
   },
   "source": [
    "### Part B\n",
    "\n",
    "Set `predictions_1` to the model's predictions for the validation data.  Recall that the validation features are stored in `X_valid`."
   ]
  },
  {
   "cell_type": "code",
   "execution_count": 5,
   "id": "a4a8e7ee",
   "metadata": {
    "execution": {
     "iopub.execute_input": "2024-12-02T17:33:03.755164Z",
     "iopub.status.busy": "2024-12-02T17:33:03.754771Z",
     "iopub.status.idle": "2024-12-02T17:33:03.791615Z",
     "shell.execute_reply": "2024-12-02T17:33:03.790337Z"
    },
    "papermill": {
     "duration": 0.045257,
     "end_time": "2024-12-02T17:33:03.794077",
     "exception": false,
     "start_time": "2024-12-02T17:33:03.748820",
     "status": "completed"
    },
    "tags": []
   },
   "outputs": [
    {
     "data": {
      "application/javascript": [
       "parent.postMessage({\"jupyterEvent\": \"custom.exercise_interaction\", \"data\": {\"outcomeType\": 1, \"valueTowardsCompletion\": 0.5, \"interactionType\": 1, \"questionType\": 2, \"questionId\": \"1.2_Model1B\", \"learnToolsVersion\": \"0.3.4\", \"failureMessage\": \"\", \"exceptionClass\": \"\", \"trace\": \"\"}}, \"*\")"
      ],
      "text/plain": [
       "<IPython.core.display.Javascript object>"
      ]
     },
     "metadata": {},
     "output_type": "display_data"
    },
    {
     "data": {
      "text/markdown": [
       "<span style=\"color:#33cc33\">Correct</span>"
      ],
      "text/plain": [
       "Correct"
      ]
     },
     "metadata": {},
     "output_type": "display_data"
    }
   ],
   "source": [
    "from sklearn.metrics import mean_absolute_error\n",
    "\n",
    "# Get predictions\n",
    "predictions_1 = my_model_1.predict(X_valid) # Your code here\n",
    "\n",
    "# Check your answer\n",
    "step_1.b.check()"
   ]
  },
  {
   "cell_type": "code",
   "execution_count": 6,
   "id": "dc6e2141",
   "metadata": {
    "execution": {
     "iopub.execute_input": "2024-12-02T17:33:03.805967Z",
     "iopub.status.busy": "2024-12-02T17:33:03.805143Z",
     "iopub.status.idle": "2024-12-02T17:33:03.809848Z",
     "shell.execute_reply": "2024-12-02T17:33:03.808846Z"
    },
    "papermill": {
     "duration": 0.012787,
     "end_time": "2024-12-02T17:33:03.811820",
     "exception": false,
     "start_time": "2024-12-02T17:33:03.799033",
     "status": "completed"
    },
    "tags": []
   },
   "outputs": [],
   "source": [
    "# Lines below will give you a hint or solution code\n",
    "#step_1.b.hint()\n",
    "#step_1.b.solution()"
   ]
  },
  {
   "cell_type": "markdown",
   "id": "d4e420db",
   "metadata": {
    "papermill": {
     "duration": 0.004487,
     "end_time": "2024-12-02T17:33:03.821184",
     "exception": false,
     "start_time": "2024-12-02T17:33:03.816697",
     "status": "completed"
    },
    "tags": []
   },
   "source": [
    "### Part C\n",
    "\n",
    "Finally, use the `mean_absolute_error()` function to calculate the mean absolute error (MAE) corresponding to the predictions for the validation set.  Recall that the labels for the validation data are stored in `y_valid`."
   ]
  },
  {
   "cell_type": "code",
   "execution_count": 7,
   "id": "09ad9e1a",
   "metadata": {
    "execution": {
     "iopub.execute_input": "2024-12-02T17:33:03.832386Z",
     "iopub.status.busy": "2024-12-02T17:33:03.831962Z",
     "iopub.status.idle": "2024-12-02T17:33:03.843001Z",
     "shell.execute_reply": "2024-12-02T17:33:03.842014Z"
    },
    "papermill": {
     "duration": 0.019153,
     "end_time": "2024-12-02T17:33:03.845165",
     "exception": false,
     "start_time": "2024-12-02T17:33:03.826012",
     "status": "completed"
    },
    "tags": []
   },
   "outputs": [
    {
     "name": "stdout",
     "output_type": "stream",
     "text": [
      "Mean Absolute Error: 18161.82412510702\n"
     ]
    },
    {
     "data": {
      "application/javascript": [
       "parent.postMessage({\"jupyterEvent\": \"custom.exercise_interaction\", \"data\": {\"outcomeType\": 1, \"valueTowardsCompletion\": 0.5, \"interactionType\": 1, \"questionType\": 2, \"questionId\": \"1.3_Model1C\", \"learnToolsVersion\": \"0.3.4\", \"failureMessage\": \"\", \"exceptionClass\": \"\", \"trace\": \"\"}}, \"*\")"
      ],
      "text/plain": [
       "<IPython.core.display.Javascript object>"
      ]
     },
     "metadata": {},
     "output_type": "display_data"
    },
    {
     "data": {
      "text/markdown": [
       "<span style=\"color:#33cc33\">Correct</span>"
      ],
      "text/plain": [
       "Correct"
      ]
     },
     "metadata": {},
     "output_type": "display_data"
    }
   ],
   "source": [
    "# Calculate MAE\n",
    "mae_1 = mean_absolute_error(predictions_1, y_valid) # Your code here\n",
    "\n",
    "# Uncomment to print MAE\n",
    "print(\"Mean Absolute Error:\" , mae_1)\n",
    "\n",
    "# Check your answer\n",
    "step_1.c.check()"
   ]
  },
  {
   "cell_type": "code",
   "execution_count": 8,
   "id": "503c75aa",
   "metadata": {
    "execution": {
     "iopub.execute_input": "2024-12-02T17:33:03.857353Z",
     "iopub.status.busy": "2024-12-02T17:33:03.856923Z",
     "iopub.status.idle": "2024-12-02T17:33:03.861616Z",
     "shell.execute_reply": "2024-12-02T17:33:03.860570Z"
    },
    "papermill": {
     "duration": 0.013512,
     "end_time": "2024-12-02T17:33:03.864010",
     "exception": false,
     "start_time": "2024-12-02T17:33:03.850498",
     "status": "completed"
    },
    "tags": []
   },
   "outputs": [],
   "source": [
    "# Lines below will give you a hint or solution code\n",
    "#step_1.c.hint()\n",
    "#step_1.c.solution()"
   ]
  },
  {
   "cell_type": "markdown",
   "id": "a0b97307",
   "metadata": {
    "papermill": {
     "duration": 0.005222,
     "end_time": "2024-12-02T17:33:03.874512",
     "exception": false,
     "start_time": "2024-12-02T17:33:03.869290",
     "status": "completed"
    },
    "tags": []
   },
   "source": [
    "# Step 2: Improve the model\n",
    "\n",
    "Now that you've trained a default model as baseline, it's time to tinker with the parameters, to see if you can get better performance!\n",
    "- Begin by setting `my_model_2` to an XGBoost model, using the [XGBRegressor](https://xgboost.readthedocs.io/en/latest/python/python_api.html#xgboost.XGBRegressor) class.  Use what you learned in the previous tutorial to figure out how to change the default parameters (like `n_estimators` and `learning_rate`) to get better results.\n",
    "- Then, fit the model to the training data in `X_train` and `y_train`.\n",
    "- Set `predictions_2` to the model's predictions for the validation data.  Recall that the validation features are stored in `X_valid`.\n",
    "- Finally, use the `mean_absolute_error()` function to calculate the mean absolute error (MAE) corresponding to the predictions on the validation set.  Recall that the labels for the validation data are stored in `y_valid`.\n",
    "\n",
    "In order for this step to be marked correct, your model in `my_model_2` must attain lower MAE than the model in `my_model_1`. "
   ]
  },
  {
   "cell_type": "code",
   "execution_count": 9,
   "id": "037dbd88",
   "metadata": {
    "execution": {
     "iopub.execute_input": "2024-12-02T17:33:03.886361Z",
     "iopub.status.busy": "2024-12-02T17:33:03.885980Z",
     "iopub.status.idle": "2024-12-02T17:33:07.857745Z",
     "shell.execute_reply": "2024-12-02T17:33:07.856626Z"
    },
    "papermill": {
     "duration": 3.980486,
     "end_time": "2024-12-02T17:33:07.860138",
     "exception": false,
     "start_time": "2024-12-02T17:33:03.879652",
     "status": "completed"
    },
    "tags": []
   },
   "outputs": [
    {
     "name": "stdout",
     "output_type": "stream",
     "text": [
      "Mean Absolute Error: 17224.27947078339\n"
     ]
    },
    {
     "data": {
      "application/javascript": [
       "parent.postMessage({\"jupyterEvent\": \"custom.exercise_interaction\", \"data\": {\"outcomeType\": 1, \"valueTowardsCompletion\": 0.5, \"interactionType\": 1, \"questionType\": 2, \"questionId\": \"2_Model2\", \"learnToolsVersion\": \"0.3.4\", \"failureMessage\": \"\", \"exceptionClass\": \"\", \"trace\": \"\"}}, \"*\")"
      ],
      "text/plain": [
       "<IPython.core.display.Javascript object>"
      ]
     },
     "metadata": {},
     "output_type": "display_data"
    },
    {
     "data": {
      "text/markdown": [
       "<span style=\"color:#33cc33\">Correct</span>"
      ],
      "text/plain": [
       "Correct"
      ]
     },
     "metadata": {},
     "output_type": "display_data"
    }
   ],
   "source": [
    "# Define the model\n",
    "my_model_2 = XGBRegressor(n_estimators=1000, learning_rate=0.05) # Your code here\n",
    "\n",
    "# Fit the model\n",
    "my_model_2.fit(X_train, y_train) # Your code here\n",
    "\n",
    "# Get predictions\n",
    "predictions_2 = my_model_2.predict(X_valid) # Your code here\n",
    "\n",
    "# Calculate MAE\n",
    "mae_2 = mean_absolute_error(predictions_2, y_valid) # Your code here\n",
    "\n",
    "# Uncomment to print MAE\n",
    "print(\"Mean Absolute Error:\" , mae_2)\n",
    "\n",
    "# Check your answer\n",
    "step_2.check()"
   ]
  },
  {
   "cell_type": "code",
   "execution_count": 10,
   "id": "e3aefda4",
   "metadata": {
    "execution": {
     "iopub.execute_input": "2024-12-02T17:33:07.872616Z",
     "iopub.status.busy": "2024-12-02T17:33:07.872138Z",
     "iopub.status.idle": "2024-12-02T17:33:07.877103Z",
     "shell.execute_reply": "2024-12-02T17:33:07.875876Z"
    },
    "papermill": {
     "duration": 0.014207,
     "end_time": "2024-12-02T17:33:07.879699",
     "exception": false,
     "start_time": "2024-12-02T17:33:07.865492",
     "status": "completed"
    },
    "tags": []
   },
   "outputs": [],
   "source": [
    "# Lines below will give you a hint or solution code\n",
    "#step_2.hint()\n",
    "#step_2.solution()"
   ]
  },
  {
   "cell_type": "markdown",
   "id": "85e1de8f",
   "metadata": {
    "papermill": {
     "duration": 0.005062,
     "end_time": "2024-12-02T17:33:07.890584",
     "exception": false,
     "start_time": "2024-12-02T17:33:07.885522",
     "status": "completed"
    },
    "tags": []
   },
   "source": [
    "# Step 3: Break the model\n",
    "\n",
    "In this step, you will create a model that performs worse than the original model in Step 1.  This will help you to develop your intuition for how to set parameters.  You might even find that you accidentally get better performance, which is ultimately a nice problem to have and a valuable learning experience!\n",
    "- Begin by setting `my_model_3` to an XGBoost model, using the [XGBRegressor](https://xgboost.readthedocs.io/en/latest/python/python_api.html#xgboost.XGBRegressor) class.  Use what you learned in the previous tutorial to figure out how to change the default parameters (like `n_estimators` and `learning_rate`) to design a model to get high MAE.\n",
    "- Then, fit the model to the training data in `X_train` and `y_train`.\n",
    "- Set `predictions_3` to the model's predictions for the validation data.  Recall that the validation features are stored in `X_valid`.\n",
    "- Finally, use the `mean_absolute_error()` function to calculate the mean absolute error (MAE) corresponding to the predictions on the validation set.  Recall that the labels for the validation data are stored in `y_valid`.\n",
    "\n",
    "In order for this step to be marked correct, your model in `my_model_3` must attain higher MAE than the model in `my_model_1`. "
   ]
  },
  {
   "cell_type": "code",
   "execution_count": 11,
   "id": "162d1f0c",
   "metadata": {
    "execution": {
     "iopub.execute_input": "2024-12-02T17:33:07.903006Z",
     "iopub.status.busy": "2024-12-02T17:33:07.902218Z",
     "iopub.status.idle": "2024-12-02T17:33:08.005292Z",
     "shell.execute_reply": "2024-12-02T17:33:08.004135Z"
    },
    "papermill": {
     "duration": 0.113986,
     "end_time": "2024-12-02T17:33:08.009824",
     "exception": false,
     "start_time": "2024-12-02T17:33:07.895838",
     "status": "completed"
    },
    "tags": []
   },
   "outputs": [
    {
     "name": "stdout",
     "output_type": "stream",
     "text": [
      "Mean Absolute Error: 42678.815550085616\n"
     ]
    },
    {
     "data": {
      "application/javascript": [
       "parent.postMessage({\"jupyterEvent\": \"custom.exercise_interaction\", \"data\": {\"outcomeType\": 1, \"valueTowardsCompletion\": 0.5, \"interactionType\": 1, \"questionType\": 2, \"questionId\": \"3_Model3\", \"learnToolsVersion\": \"0.3.4\", \"failureMessage\": \"\", \"exceptionClass\": \"\", \"trace\": \"\"}}, \"*\")"
      ],
      "text/plain": [
       "<IPython.core.display.Javascript object>"
      ]
     },
     "metadata": {},
     "output_type": "display_data"
    },
    {
     "data": {
      "text/markdown": [
       "<span style=\"color:#33cc33\">Correct</span>"
      ],
      "text/plain": [
       "Correct"
      ]
     },
     "metadata": {},
     "output_type": "display_data"
    }
   ],
   "source": [
    "# Define the model\n",
    "my_model_3 = XGBRegressor(n_estimators=1)\n",
    "\n",
    "# Fit the model\n",
    "my_model_3.fit(X_train, y_train) # Your code here\n",
    "\n",
    "# Get predictions\n",
    "predictions_3 = my_model_3.predict(X_valid)\n",
    "\n",
    "# Calculate MAE\n",
    "mae_3 = mean_absolute_error(predictions_3, y_valid)\n",
    "\n",
    "# Uncomment to print MAE\n",
    "print(\"Mean Absolute Error:\" , mae_3)\n",
    "\n",
    "# Check your answer\n",
    "step_3.check()"
   ]
  },
  {
   "cell_type": "code",
   "execution_count": 12,
   "id": "0db53073",
   "metadata": {
    "execution": {
     "iopub.execute_input": "2024-12-02T17:33:08.023247Z",
     "iopub.status.busy": "2024-12-02T17:33:08.022581Z",
     "iopub.status.idle": "2024-12-02T17:33:08.027273Z",
     "shell.execute_reply": "2024-12-02T17:33:08.026113Z"
    },
    "papermill": {
     "duration": 0.013605,
     "end_time": "2024-12-02T17:33:08.029376",
     "exception": false,
     "start_time": "2024-12-02T17:33:08.015771",
     "status": "completed"
    },
    "tags": []
   },
   "outputs": [],
   "source": [
    "# Lines below will give you a hint or solution code\n",
    "#step_3.hint()\n",
    "#step_3.solution()"
   ]
  },
  {
   "cell_type": "markdown",
   "id": "bd87ae6c",
   "metadata": {
    "papermill": {
     "duration": 0.005356,
     "end_time": "2024-12-02T17:33:08.040467",
     "exception": false,
     "start_time": "2024-12-02T17:33:08.035111",
     "status": "completed"
    },
    "tags": []
   },
   "source": [
    "# Keep going\n",
    "\n",
    "Continue to learn about **[data leakage](https://www.kaggle.com/alexisbcook/data-leakage)**.  This is an important issue for a data scientist to understand, and it has the potential to ruin your models in subtle and dangerous ways!"
   ]
  },
  {
   "cell_type": "markdown",
   "id": "c6c6dc71",
   "metadata": {
    "papermill": {
     "duration": 0.005384,
     "end_time": "2024-12-02T17:33:08.051393",
     "exception": false,
     "start_time": "2024-12-02T17:33:08.046009",
     "status": "completed"
    },
    "tags": []
   },
   "source": [
    "---\n",
    "\n",
    "\n",
    "\n",
    "\n",
    "*Have questions or comments? Visit the [course discussion forum](https://www.kaggle.com/learn/intermediate-machine-learning/discussion) to chat with other learners.*"
   ]
  }
 ],
 "metadata": {
  "kaggle": {
   "accelerator": "none",
   "dataSources": [
    {
     "databundleVersionId": 111096,
     "sourceId": 10211,
     "sourceType": "competition"
    }
   ],
   "isGpuEnabled": false,
   "isInternetEnabled": false,
   "language": "python",
   "sourceType": "notebook"
  },
  "kernelspec": {
   "display_name": "Python 3",
   "language": "python",
   "name": "python3"
  },
  "language_info": {
   "codemirror_mode": {
    "name": "ipython",
    "version": 3
   },
   "file_extension": ".py",
   "mimetype": "text/x-python",
   "name": "python",
   "nbconvert_exporter": "python",
   "pygments_lexer": "ipython3",
   "version": "3.10.14"
  },
  "papermill": {
   "default_parameters": {},
   "duration": 11.707981,
   "end_time": "2024-12-02T17:33:08.678248",
   "environment_variables": {},
   "exception": null,
   "input_path": "__notebook__.ipynb",
   "output_path": "__notebook__.ipynb",
   "parameters": {},
   "start_time": "2024-12-02T17:32:56.970267",
   "version": "2.6.0"
  }
 },
 "nbformat": 4,
 "nbformat_minor": 5
}
