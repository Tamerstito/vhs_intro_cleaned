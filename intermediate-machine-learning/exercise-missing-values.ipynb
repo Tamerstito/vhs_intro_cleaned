{
 "cells": [
  {
   "cell_type": "markdown",
   "id": "64b663d7",
   "metadata": {
    "papermill": {
     "duration": 0.008735,
     "end_time": "2024-11-05T18:48:12.470993",
     "exception": false,
     "start_time": "2024-11-05T18:48:12.462258",
     "status": "completed"
    },
    "tags": []
   },
   "source": [
    "**This notebook is an exercise in the [Intermediate Machine Learning](https://www.kaggle.com/learn/intermediate-machine-learning) course.  You can reference the tutorial at [this link](https://www.kaggle.com/alexisbcook/missing-values).**\n",
    "\n",
    "---\n"
   ]
  },
  {
   "cell_type": "markdown",
   "id": "bf6e7a51",
   "metadata": {
    "papermill": {
     "duration": 0.00774,
     "end_time": "2024-11-05T18:48:12.487158",
     "exception": false,
     "start_time": "2024-11-05T18:48:12.479418",
     "status": "completed"
    },
    "tags": []
   },
   "source": [
    "Now it's your turn to test your new knowledge of **missing values** handling. You'll probably find it makes a big difference.\n",
    "\n",
    "# Setup\n",
    "\n",
    "The questions will give you feedback on your work. Run the following cell to set up the feedback system."
   ]
  },
  {
   "cell_type": "code",
   "execution_count": 1,
   "id": "6b62da9e",
   "metadata": {
    "execution": {
     "iopub.execute_input": "2024-11-05T18:48:12.505262Z",
     "iopub.status.busy": "2024-11-05T18:48:12.504771Z",
     "iopub.status.idle": "2024-11-05T18:48:13.449673Z",
     "shell.execute_reply": "2024-11-05T18:48:13.448408Z"
    },
    "papermill": {
     "duration": 0.956972,
     "end_time": "2024-11-05T18:48:13.452338",
     "exception": false,
     "start_time": "2024-11-05T18:48:12.495366",
     "status": "completed"
    },
    "tags": []
   },
   "outputs": [
    {
     "name": "stdout",
     "output_type": "stream",
     "text": [
      "Setup Complete\n"
     ]
    }
   ],
   "source": [
    "# Set up code checking\n",
    "import os\n",
    "if not os.path.exists(\"../input/train.csv\"):\n",
    "    os.symlink(\"../input/home-data-for-ml-course/train.csv\", \"../input/train.csv\")  \n",
    "    os.symlink(\"../input/home-data-for-ml-course/test.csv\", \"../input/test.csv\") \n",
    "from learntools.core import binder\n",
    "binder.bind(globals())\n",
    "from learntools.ml_intermediate.ex2 import *\n",
    "print(\"Setup Complete\")"
   ]
  },
  {
   "cell_type": "markdown",
   "id": "e9f064e7",
   "metadata": {
    "papermill": {
     "duration": 0.007864,
     "end_time": "2024-11-05T18:48:13.469602",
     "exception": false,
     "start_time": "2024-11-05T18:48:13.461738",
     "status": "completed"
    },
    "tags": []
   },
   "source": [
    "In this exercise, you will work with data from the [Housing Prices Competition for Kaggle Learn Users](https://www.kaggle.com/c/home-data-for-ml-course). \n",
    "\n",
    "![Ames Housing dataset image](https://storage.googleapis.com/kaggle-media/learn/images/lTJVG4e.png)\n",
    "\n",
    "Run the next code cell without changes to load the training and validation sets in `X_train`, `X_valid`, `y_train`, and `y_valid`.  The test set is loaded in `X_test`."
   ]
  },
  {
   "cell_type": "code",
   "execution_count": 2,
   "id": "38cff02e",
   "metadata": {
    "execution": {
     "iopub.execute_input": "2024-11-05T18:48:13.488375Z",
     "iopub.status.busy": "2024-11-05T18:48:13.487792Z",
     "iopub.status.idle": "2024-11-05T18:48:14.985695Z",
     "shell.execute_reply": "2024-11-05T18:48:14.984428Z"
    },
    "papermill": {
     "duration": 1.510605,
     "end_time": "2024-11-05T18:48:14.988363",
     "exception": false,
     "start_time": "2024-11-05T18:48:13.477758",
     "status": "completed"
    },
    "tags": []
   },
   "outputs": [],
   "source": [
    "import pandas as pd\n",
    "from sklearn.model_selection import train_test_split\n",
    "\n",
    "# Read the data\n",
    "X_full = pd.read_csv('../input/train.csv', index_col='Id')\n",
    "X_test_full = pd.read_csv('../input/test.csv', index_col='Id')\n",
    "\n",
    "# Remove rows with missing target, separate target from predictors\n",
    "X_full.dropna(axis=0, subset=['SalePrice'], inplace=True)\n",
    "y = X_full.SalePrice\n",
    "X_full.drop(['SalePrice'], axis=1, inplace=True)\n",
    "\n",
    "# To keep things simple, we'll use only numerical predictors\n",
    "X = X_full.select_dtypes(exclude=['object'])\n",
    "X_test = X_test_full.select_dtypes(exclude=['object'])\n",
    "\n",
    "# Break off validation set from training data\n",
    "X_train, X_valid, y_train, y_valid = train_test_split(X, y, train_size=0.8, test_size=0.2,\n",
    "                                                      random_state=0)"
   ]
  },
  {
   "cell_type": "markdown",
   "id": "201aee7e",
   "metadata": {
    "papermill": {
     "duration": 0.008212,
     "end_time": "2024-11-05T18:48:15.005024",
     "exception": false,
     "start_time": "2024-11-05T18:48:14.996812",
     "status": "completed"
    },
    "tags": []
   },
   "source": [
    "Use the next code cell to print the first five rows of the data."
   ]
  },
  {
   "cell_type": "code",
   "execution_count": 3,
   "id": "2ba827c9",
   "metadata": {
    "execution": {
     "iopub.execute_input": "2024-11-05T18:48:15.023691Z",
     "iopub.status.busy": "2024-11-05T18:48:15.023245Z",
     "iopub.status.idle": "2024-11-05T18:48:15.051433Z",
     "shell.execute_reply": "2024-11-05T18:48:15.050173Z"
    },
    "papermill": {
     "duration": 0.040815,
     "end_time": "2024-11-05T18:48:15.054223",
     "exception": false,
     "start_time": "2024-11-05T18:48:15.013408",
     "status": "completed"
    },
    "tags": []
   },
   "outputs": [
    {
     "data": {
      "text/html": [
       "<div>\n",
       "<style scoped>\n",
       "    .dataframe tbody tr th:only-of-type {\n",
       "        vertical-align: middle;\n",
       "    }\n",
       "\n",
       "    .dataframe tbody tr th {\n",
       "        vertical-align: top;\n",
       "    }\n",
       "\n",
       "    .dataframe thead th {\n",
       "        text-align: right;\n",
       "    }\n",
       "</style>\n",
       "<table border=\"1\" class=\"dataframe\">\n",
       "  <thead>\n",
       "    <tr style=\"text-align: right;\">\n",
       "      <th></th>\n",
       "      <th>MSSubClass</th>\n",
       "      <th>LotFrontage</th>\n",
       "      <th>LotArea</th>\n",
       "      <th>OverallQual</th>\n",
       "      <th>OverallCond</th>\n",
       "      <th>YearBuilt</th>\n",
       "      <th>YearRemodAdd</th>\n",
       "      <th>MasVnrArea</th>\n",
       "      <th>BsmtFinSF1</th>\n",
       "      <th>BsmtFinSF2</th>\n",
       "      <th>...</th>\n",
       "      <th>GarageArea</th>\n",
       "      <th>WoodDeckSF</th>\n",
       "      <th>OpenPorchSF</th>\n",
       "      <th>EnclosedPorch</th>\n",
       "      <th>3SsnPorch</th>\n",
       "      <th>ScreenPorch</th>\n",
       "      <th>PoolArea</th>\n",
       "      <th>MiscVal</th>\n",
       "      <th>MoSold</th>\n",
       "      <th>YrSold</th>\n",
       "    </tr>\n",
       "    <tr>\n",
       "      <th>Id</th>\n",
       "      <th></th>\n",
       "      <th></th>\n",
       "      <th></th>\n",
       "      <th></th>\n",
       "      <th></th>\n",
       "      <th></th>\n",
       "      <th></th>\n",
       "      <th></th>\n",
       "      <th></th>\n",
       "      <th></th>\n",
       "      <th></th>\n",
       "      <th></th>\n",
       "      <th></th>\n",
       "      <th></th>\n",
       "      <th></th>\n",
       "      <th></th>\n",
       "      <th></th>\n",
       "      <th></th>\n",
       "      <th></th>\n",
       "      <th></th>\n",
       "      <th></th>\n",
       "    </tr>\n",
       "  </thead>\n",
       "  <tbody>\n",
       "    <tr>\n",
       "      <th>619</th>\n",
       "      <td>20</td>\n",
       "      <td>90.0</td>\n",
       "      <td>11694</td>\n",
       "      <td>9</td>\n",
       "      <td>5</td>\n",
       "      <td>2007</td>\n",
       "      <td>2007</td>\n",
       "      <td>452.0</td>\n",
       "      <td>48</td>\n",
       "      <td>0</td>\n",
       "      <td>...</td>\n",
       "      <td>774</td>\n",
       "      <td>0</td>\n",
       "      <td>108</td>\n",
       "      <td>0</td>\n",
       "      <td>0</td>\n",
       "      <td>260</td>\n",
       "      <td>0</td>\n",
       "      <td>0</td>\n",
       "      <td>7</td>\n",
       "      <td>2007</td>\n",
       "    </tr>\n",
       "    <tr>\n",
       "      <th>871</th>\n",
       "      <td>20</td>\n",
       "      <td>60.0</td>\n",
       "      <td>6600</td>\n",
       "      <td>5</td>\n",
       "      <td>5</td>\n",
       "      <td>1962</td>\n",
       "      <td>1962</td>\n",
       "      <td>0.0</td>\n",
       "      <td>0</td>\n",
       "      <td>0</td>\n",
       "      <td>...</td>\n",
       "      <td>308</td>\n",
       "      <td>0</td>\n",
       "      <td>0</td>\n",
       "      <td>0</td>\n",
       "      <td>0</td>\n",
       "      <td>0</td>\n",
       "      <td>0</td>\n",
       "      <td>0</td>\n",
       "      <td>8</td>\n",
       "      <td>2009</td>\n",
       "    </tr>\n",
       "    <tr>\n",
       "      <th>93</th>\n",
       "      <td>30</td>\n",
       "      <td>80.0</td>\n",
       "      <td>13360</td>\n",
       "      <td>5</td>\n",
       "      <td>7</td>\n",
       "      <td>1921</td>\n",
       "      <td>2006</td>\n",
       "      <td>0.0</td>\n",
       "      <td>713</td>\n",
       "      <td>0</td>\n",
       "      <td>...</td>\n",
       "      <td>432</td>\n",
       "      <td>0</td>\n",
       "      <td>0</td>\n",
       "      <td>44</td>\n",
       "      <td>0</td>\n",
       "      <td>0</td>\n",
       "      <td>0</td>\n",
       "      <td>0</td>\n",
       "      <td>8</td>\n",
       "      <td>2009</td>\n",
       "    </tr>\n",
       "    <tr>\n",
       "      <th>818</th>\n",
       "      <td>20</td>\n",
       "      <td>NaN</td>\n",
       "      <td>13265</td>\n",
       "      <td>8</td>\n",
       "      <td>5</td>\n",
       "      <td>2002</td>\n",
       "      <td>2002</td>\n",
       "      <td>148.0</td>\n",
       "      <td>1218</td>\n",
       "      <td>0</td>\n",
       "      <td>...</td>\n",
       "      <td>857</td>\n",
       "      <td>150</td>\n",
       "      <td>59</td>\n",
       "      <td>0</td>\n",
       "      <td>0</td>\n",
       "      <td>0</td>\n",
       "      <td>0</td>\n",
       "      <td>0</td>\n",
       "      <td>7</td>\n",
       "      <td>2008</td>\n",
       "    </tr>\n",
       "    <tr>\n",
       "      <th>303</th>\n",
       "      <td>20</td>\n",
       "      <td>118.0</td>\n",
       "      <td>13704</td>\n",
       "      <td>7</td>\n",
       "      <td>5</td>\n",
       "      <td>2001</td>\n",
       "      <td>2002</td>\n",
       "      <td>150.0</td>\n",
       "      <td>0</td>\n",
       "      <td>0</td>\n",
       "      <td>...</td>\n",
       "      <td>843</td>\n",
       "      <td>468</td>\n",
       "      <td>81</td>\n",
       "      <td>0</td>\n",
       "      <td>0</td>\n",
       "      <td>0</td>\n",
       "      <td>0</td>\n",
       "      <td>0</td>\n",
       "      <td>1</td>\n",
       "      <td>2006</td>\n",
       "    </tr>\n",
       "  </tbody>\n",
       "</table>\n",
       "<p>5 rows × 36 columns</p>\n",
       "</div>"
      ],
      "text/plain": [
       "     MSSubClass  LotFrontage  LotArea  OverallQual  OverallCond  YearBuilt  \\\n",
       "Id                                                                           \n",
       "619          20         90.0    11694            9            5       2007   \n",
       "871          20         60.0     6600            5            5       1962   \n",
       "93           30         80.0    13360            5            7       1921   \n",
       "818          20          NaN    13265            8            5       2002   \n",
       "303          20        118.0    13704            7            5       2001   \n",
       "\n",
       "     YearRemodAdd  MasVnrArea  BsmtFinSF1  BsmtFinSF2  ...  GarageArea  \\\n",
       "Id                                                     ...               \n",
       "619          2007       452.0          48           0  ...         774   \n",
       "871          1962         0.0           0           0  ...         308   \n",
       "93           2006         0.0         713           0  ...         432   \n",
       "818          2002       148.0        1218           0  ...         857   \n",
       "303          2002       150.0           0           0  ...         843   \n",
       "\n",
       "     WoodDeckSF  OpenPorchSF  EnclosedPorch  3SsnPorch  ScreenPorch  PoolArea  \\\n",
       "Id                                                                              \n",
       "619           0          108              0          0          260         0   \n",
       "871           0            0              0          0            0         0   \n",
       "93            0            0             44          0            0         0   \n",
       "818         150           59              0          0            0         0   \n",
       "303         468           81              0          0            0         0   \n",
       "\n",
       "     MiscVal  MoSold  YrSold  \n",
       "Id                            \n",
       "619        0       7    2007  \n",
       "871        0       8    2009  \n",
       "93         0       8    2009  \n",
       "818        0       7    2008  \n",
       "303        0       1    2006  \n",
       "\n",
       "[5 rows x 36 columns]"
      ]
     },
     "execution_count": 3,
     "metadata": {},
     "output_type": "execute_result"
    }
   ],
   "source": [
    "X_train.head()"
   ]
  },
  {
   "cell_type": "markdown",
   "id": "6e424bc0",
   "metadata": {
    "papermill": {
     "duration": 0.009088,
     "end_time": "2024-11-05T18:48:15.072712",
     "exception": false,
     "start_time": "2024-11-05T18:48:15.063624",
     "status": "completed"
    },
    "tags": []
   },
   "source": [
    "You can already see a few missing values in the first several rows.  In the next step, you'll obtain a more comprehensive understanding of the missing values in the dataset.\n",
    "\n",
    "# Step 1: Preliminary investigation\n",
    "\n",
    "Run the code cell below without changes."
   ]
  },
  {
   "cell_type": "code",
   "execution_count": 4,
   "id": "54e68fb5",
   "metadata": {
    "execution": {
     "iopub.execute_input": "2024-11-05T18:48:15.092695Z",
     "iopub.status.busy": "2024-11-05T18:48:15.092292Z",
     "iopub.status.idle": "2024-11-05T18:48:15.100491Z",
     "shell.execute_reply": "2024-11-05T18:48:15.099060Z"
    },
    "papermill": {
     "duration": 0.022001,
     "end_time": "2024-11-05T18:48:15.103612",
     "exception": false,
     "start_time": "2024-11-05T18:48:15.081611",
     "status": "completed"
    },
    "tags": []
   },
   "outputs": [
    {
     "name": "stdout",
     "output_type": "stream",
     "text": [
      "(1168, 36)\n",
      "LotFrontage    212\n",
      "MasVnrArea       6\n",
      "GarageYrBlt     58\n",
      "dtype: int64\n"
     ]
    }
   ],
   "source": [
    "# Shape of training data (num_rows, num_columns)\n",
    "print(X_train.shape)\n",
    "\n",
    "# Number of missing values in each column of training data\n",
    "missing_val_count_by_column = (X_train.isnull().sum())\n",
    "print(missing_val_count_by_column[missing_val_count_by_column > 0])"
   ]
  },
  {
   "cell_type": "markdown",
   "id": "3fafb3ce",
   "metadata": {
    "papermill": {
     "duration": 0.009443,
     "end_time": "2024-11-05T18:48:15.122009",
     "exception": false,
     "start_time": "2024-11-05T18:48:15.112566",
     "status": "completed"
    },
    "tags": []
   },
   "source": [
    "### Part A\n",
    "\n",
    "Use the above output to answer the questions below."
   ]
  },
  {
   "cell_type": "code",
   "execution_count": 5,
   "id": "7ff28702",
   "metadata": {
    "execution": {
     "iopub.execute_input": "2024-11-05T18:48:15.141936Z",
     "iopub.status.busy": "2024-11-05T18:48:15.141460Z",
     "iopub.status.idle": "2024-11-05T18:48:15.151361Z",
     "shell.execute_reply": "2024-11-05T18:48:15.150249Z"
    },
    "papermill": {
     "duration": 0.022344,
     "end_time": "2024-11-05T18:48:15.153637",
     "exception": false,
     "start_time": "2024-11-05T18:48:15.131293",
     "status": "completed"
    },
    "tags": []
   },
   "outputs": [
    {
     "data": {
      "application/javascript": [
       "parent.postMessage({\"jupyterEvent\": \"custom.exercise_interaction\", \"data\": {\"outcomeType\": 1, \"valueTowardsCompletion\": 1.0, \"interactionType\": 1, \"questionType\": 1, \"questionId\": \"1.1_InvestigateEquality\", \"learnToolsVersion\": \"0.3.4\", \"failureMessage\": \"\", \"exceptionClass\": \"\", \"trace\": \"\"}}, \"*\")"
      ],
      "text/plain": [
       "<IPython.core.display.Javascript object>"
      ]
     },
     "metadata": {},
     "output_type": "display_data"
    },
    {
     "data": {
      "text/markdown": [
       "<span style=\"color:#33cc33\">Correct</span>"
      ],
      "text/plain": [
       "Correct"
      ]
     },
     "metadata": {},
     "output_type": "display_data"
    }
   ],
   "source": [
    "# Fill in the line below: How many rows are in the training data?\n",
    "num_rows = 1168\n",
    "\n",
    "# Fill in the line below: How many columns in the training data\n",
    "# have missing values?\n",
    "num_cols_with_missing = 3\n",
    "\n",
    "# Fill in the line below: How many missing entries are contained in \n",
    "# all of the training data?\n",
    "tot_missing = 276\n",
    "\n",
    "# Check your answers\n",
    "step_1.a.check()"
   ]
  },
  {
   "cell_type": "code",
   "execution_count": 6,
   "id": "fc59c5aa",
   "metadata": {
    "execution": {
     "iopub.execute_input": "2024-11-05T18:48:15.174397Z",
     "iopub.status.busy": "2024-11-05T18:48:15.173959Z",
     "iopub.status.idle": "2024-11-05T18:48:15.179173Z",
     "shell.execute_reply": "2024-11-05T18:48:15.177817Z"
    },
    "papermill": {
     "duration": 0.018704,
     "end_time": "2024-11-05T18:48:15.181996",
     "exception": false,
     "start_time": "2024-11-05T18:48:15.163292",
     "status": "completed"
    },
    "tags": []
   },
   "outputs": [],
   "source": [
    "# Lines below will give you a hint or solution code\n",
    "#step_1.a.hint()\n",
    "#step_1.a.solution()"
   ]
  },
  {
   "cell_type": "markdown",
   "id": "19ea7e24",
   "metadata": {
    "papermill": {
     "duration": 0.008804,
     "end_time": "2024-11-05T18:48:15.200443",
     "exception": false,
     "start_time": "2024-11-05T18:48:15.191639",
     "status": "completed"
    },
    "tags": []
   },
   "source": [
    "### Part B\n",
    "Considering your answers above, what do you think is likely the best approach to dealing with the missing values?"
   ]
  },
  {
   "cell_type": "code",
   "execution_count": 7,
   "id": "8a3d977e",
   "metadata": {
    "execution": {
     "iopub.execute_input": "2024-11-05T18:48:15.221105Z",
     "iopub.status.busy": "2024-11-05T18:48:15.220707Z",
     "iopub.status.idle": "2024-11-05T18:48:15.230449Z",
     "shell.execute_reply": "2024-11-05T18:48:15.229161Z"
    },
    "papermill": {
     "duration": 0.022406,
     "end_time": "2024-11-05T18:48:15.232820",
     "exception": false,
     "start_time": "2024-11-05T18:48:15.210414",
     "status": "completed"
    },
    "tags": []
   },
   "outputs": [
    {
     "data": {
      "application/javascript": [
       "parent.postMessage({\"jupyterEvent\": \"custom.exercise_interaction\", \"data\": {\"outcomeType\": 1, \"valueTowardsCompletion\": 1.0, \"interactionType\": 1, \"questionType\": 4, \"questionId\": \"1.2_InvestigateThought\", \"learnToolsVersion\": \"0.3.4\", \"failureMessage\": \"\", \"exceptionClass\": \"\", \"trace\": \"\"}}, \"*\")"
      ],
      "text/plain": [
       "<IPython.core.display.Javascript object>"
      ]
     },
     "metadata": {},
     "output_type": "display_data"
    },
    {
     "data": {
      "text/markdown": [
       "<span style=\"color:#33cc33\">Correct:</span> \n",
       "\n",
       "Since there are relatively few missing entries in the data (the column with the greatest percentage of missing values is missing less than 20% of its entries), we can expect that dropping columns is unlikely to yield good results.  This is because we'd be throwing away a lot of valuable data, and so imputation will likely perform better."
      ],
      "text/plain": [
       "Correct: \n",
       "\n",
       "Since there are relatively few missing entries in the data (the column with the greatest percentage of missing values is missing less than 20% of its entries), we can expect that dropping columns is unlikely to yield good results.  This is because we'd be throwing away a lot of valuable data, and so imputation will likely perform better."
      ]
     },
     "metadata": {},
     "output_type": "display_data"
    }
   ],
   "source": [
    "# There are not many missing entries so imputation would be better than dropping. \n",
    "# We have a lot of data we can use to figure out/ approximate the missing data.\n",
    "# Check your answer (Run this code cell to receive credit!)\n",
    "step_1.b.check()"
   ]
  },
  {
   "cell_type": "code",
   "execution_count": 8,
   "id": "78563e23",
   "metadata": {
    "execution": {
     "iopub.execute_input": "2024-11-05T18:48:15.253968Z",
     "iopub.status.busy": "2024-11-05T18:48:15.253502Z",
     "iopub.status.idle": "2024-11-05T18:48:15.258611Z",
     "shell.execute_reply": "2024-11-05T18:48:15.257357Z"
    },
    "papermill": {
     "duration": 0.018992,
     "end_time": "2024-11-05T18:48:15.261098",
     "exception": false,
     "start_time": "2024-11-05T18:48:15.242106",
     "status": "completed"
    },
    "tags": []
   },
   "outputs": [],
   "source": [
    "#step_1.b.hint()"
   ]
  },
  {
   "cell_type": "markdown",
   "id": "5728ae5b",
   "metadata": {
    "papermill": {
     "duration": 0.009499,
     "end_time": "2024-11-05T18:48:15.280532",
     "exception": false,
     "start_time": "2024-11-05T18:48:15.271033",
     "status": "completed"
    },
    "tags": []
   },
   "source": [
    "To compare different approaches to dealing with missing values, you'll use the same `score_dataset()` function from the tutorial.  This function reports the [mean absolute error](https://en.wikipedia.org/wiki/Mean_absolute_error) (MAE) from a random forest model."
   ]
  },
  {
   "cell_type": "code",
   "execution_count": 9,
   "id": "8d2303e1",
   "metadata": {
    "execution": {
     "iopub.execute_input": "2024-11-05T18:48:15.301041Z",
     "iopub.status.busy": "2024-11-05T18:48:15.300620Z",
     "iopub.status.idle": "2024-11-05T18:48:15.657376Z",
     "shell.execute_reply": "2024-11-05T18:48:15.656205Z"
    },
    "papermill": {
     "duration": 0.370023,
     "end_time": "2024-11-05T18:48:15.659987",
     "exception": false,
     "start_time": "2024-11-05T18:48:15.289964",
     "status": "completed"
    },
    "tags": []
   },
   "outputs": [],
   "source": [
    "from sklearn.ensemble import RandomForestRegressor\n",
    "from sklearn.metrics import mean_absolute_error\n",
    "\n",
    "# Function for comparing different approaches\n",
    "def score_dataset(X_train, X_valid, y_train, y_valid):\n",
    "    model = RandomForestRegressor(n_estimators=100, random_state=0)\n",
    "    model.fit(X_train, y_train)\n",
    "    preds = model.predict(X_valid)\n",
    "    return mean_absolute_error(y_valid, preds)"
   ]
  },
  {
   "cell_type": "markdown",
   "id": "517ca040",
   "metadata": {
    "papermill": {
     "duration": 0.008777,
     "end_time": "2024-11-05T18:48:15.678140",
     "exception": false,
     "start_time": "2024-11-05T18:48:15.669363",
     "status": "completed"
    },
    "tags": []
   },
   "source": [
    "# Step 2: Drop columns with missing values\n",
    "\n",
    "In this step, you'll preprocess the data in `X_train` and `X_valid` to remove columns with missing values.  Set the preprocessed DataFrames to `reduced_X_train` and `reduced_X_valid`, respectively.  "
   ]
  },
  {
   "cell_type": "code",
   "execution_count": 10,
   "id": "03906012",
   "metadata": {
    "execution": {
     "iopub.execute_input": "2024-11-05T18:48:15.699255Z",
     "iopub.status.busy": "2024-11-05T18:48:15.698804Z",
     "iopub.status.idle": "2024-11-05T18:48:15.719830Z",
     "shell.execute_reply": "2024-11-05T18:48:15.718601Z"
    },
    "papermill": {
     "duration": 0.034816,
     "end_time": "2024-11-05T18:48:15.722246",
     "exception": false,
     "start_time": "2024-11-05T18:48:15.687430",
     "status": "completed"
    },
    "tags": []
   },
   "outputs": [
    {
     "data": {
      "application/javascript": [
       "parent.postMessage({\"jupyterEvent\": \"custom.exercise_interaction\", \"data\": {\"outcomeType\": 1, \"valueTowardsCompletion\": 1.0, \"interactionType\": 1, \"questionType\": 2, \"questionId\": \"2_DropMissing\", \"learnToolsVersion\": \"0.3.4\", \"failureMessage\": \"\", \"exceptionClass\": \"\", \"trace\": \"\"}}, \"*\")"
      ],
      "text/plain": [
       "<IPython.core.display.Javascript object>"
      ]
     },
     "metadata": {},
     "output_type": "display_data"
    },
    {
     "data": {
      "text/markdown": [
       "<span style=\"color:#33cc33\">Correct</span>"
      ],
      "text/plain": [
       "Correct"
      ]
     },
     "metadata": {},
     "output_type": "display_data"
    }
   ],
   "source": [
    "# Fill in the line below: get names of columns with missing values\n",
    "drop_columns = [\"LotFrontage\", \"MasVnrArea\", \"GarageYrBlt\"]# Your code here\n",
    "\n",
    "# Fill in the lines below: drop columns in training and validation data\n",
    "reduced_X_train = X_train.drop(columns=drop_columns)\n",
    "reduced_X_valid = X_valid.drop(columns=drop_columns)\n",
    "\n",
    "# Check your answers\n",
    "step_2.check()"
   ]
  },
  {
   "cell_type": "code",
   "execution_count": 11,
   "id": "c3714b2c",
   "metadata": {
    "execution": {
     "iopub.execute_input": "2024-11-05T18:48:15.743989Z",
     "iopub.status.busy": "2024-11-05T18:48:15.743543Z",
     "iopub.status.idle": "2024-11-05T18:48:15.748379Z",
     "shell.execute_reply": "2024-11-05T18:48:15.747261Z"
    },
    "papermill": {
     "duration": 0.018011,
     "end_time": "2024-11-05T18:48:15.750686",
     "exception": false,
     "start_time": "2024-11-05T18:48:15.732675",
     "status": "completed"
    },
    "tags": []
   },
   "outputs": [],
   "source": [
    "# Lines below will give you a hint or solution code\n",
    "#step_2.hint()\n",
    "#step_2.solution()"
   ]
  },
  {
   "cell_type": "markdown",
   "id": "fd0655fa",
   "metadata": {
    "papermill": {
     "duration": 0.009177,
     "end_time": "2024-11-05T18:48:15.769585",
     "exception": false,
     "start_time": "2024-11-05T18:48:15.760408",
     "status": "completed"
    },
    "tags": []
   },
   "source": [
    "Run the next code cell without changes to obtain the MAE for this approach."
   ]
  },
  {
   "cell_type": "code",
   "execution_count": 12,
   "id": "21beb77b",
   "metadata": {
    "execution": {
     "iopub.execute_input": "2024-11-05T18:48:15.790257Z",
     "iopub.status.busy": "2024-11-05T18:48:15.789802Z",
     "iopub.status.idle": "2024-11-05T18:48:17.063585Z",
     "shell.execute_reply": "2024-11-05T18:48:17.062218Z"
    },
    "papermill": {
     "duration": 1.287099,
     "end_time": "2024-11-05T18:48:17.066110",
     "exception": false,
     "start_time": "2024-11-05T18:48:15.779011",
     "status": "completed"
    },
    "tags": []
   },
   "outputs": [
    {
     "name": "stdout",
     "output_type": "stream",
     "text": [
      "MAE (Drop columns with missing values):\n",
      "17837.82570776256\n"
     ]
    }
   ],
   "source": [
    "print(\"MAE (Drop columns with missing values):\")\n",
    "print(score_dataset(reduced_X_train, reduced_X_valid, y_train, y_valid))"
   ]
  },
  {
   "cell_type": "markdown",
   "id": "6a701240",
   "metadata": {
    "papermill": {
     "duration": 0.009646,
     "end_time": "2024-11-05T18:48:17.086345",
     "exception": false,
     "start_time": "2024-11-05T18:48:17.076699",
     "status": "completed"
    },
    "tags": []
   },
   "source": [
    "# Step 3: Imputation\n",
    "\n",
    "### Part A\n",
    "\n",
    "Use the next code cell to impute missing values with the mean value along each column.  Set the preprocessed DataFrames to `imputed_X_train` and `imputed_X_valid`.  Make sure that the column names match those in `X_train` and `X_valid`."
   ]
  },
  {
   "cell_type": "code",
   "execution_count": 13,
   "id": "015823c4",
   "metadata": {
    "execution": {
     "iopub.execute_input": "2024-11-05T18:48:17.108060Z",
     "iopub.status.busy": "2024-11-05T18:48:17.107652Z",
     "iopub.status.idle": "2024-11-05T18:48:17.138337Z",
     "shell.execute_reply": "2024-11-05T18:48:17.137277Z"
    },
    "papermill": {
     "duration": 0.044817,
     "end_time": "2024-11-05T18:48:17.140974",
     "exception": false,
     "start_time": "2024-11-05T18:48:17.096157",
     "status": "completed"
    },
    "tags": []
   },
   "outputs": [
    {
     "data": {
      "application/javascript": [
       "parent.postMessage({\"jupyterEvent\": \"custom.exercise_interaction\", \"data\": {\"outcomeType\": 1, \"valueTowardsCompletion\": 1.0, \"interactionType\": 1, \"questionType\": 2, \"questionId\": \"3.1_ImputeCode\", \"learnToolsVersion\": \"0.3.4\", \"failureMessage\": \"\", \"exceptionClass\": \"\", \"trace\": \"\"}}, \"*\")"
      ],
      "text/plain": [
       "<IPython.core.display.Javascript object>"
      ]
     },
     "metadata": {},
     "output_type": "display_data"
    },
    {
     "data": {
      "text/markdown": [
       "<span style=\"color:#33cc33\">Correct</span>"
      ],
      "text/plain": [
       "Correct"
      ]
     },
     "metadata": {},
     "output_type": "display_data"
    }
   ],
   "source": [
    "from sklearn.impute import SimpleImputer\n",
    "\n",
    "# Fill in the lines below: imputation\n",
    "my_imputer = SimpleImputer() # Your code here\n",
    "imputed_X_train = pd.DataFrame(my_imputer.fit_transform(X_train))\n",
    "imputed_X_valid = pd.DataFrame(my_imputer.transform(X_valid))\n",
    "\n",
    "# Fill in the lines below: imputation removed column names; put them back\n",
    "imputed_X_train.columns = X_train.columns\n",
    "imputed_X_valid.columns = X_valid.columns\n",
    "\n",
    "# Check your answers\n",
    "step_3.a.check()"
   ]
  },
  {
   "cell_type": "code",
   "execution_count": 14,
   "id": "b0cc3df2",
   "metadata": {
    "execution": {
     "iopub.execute_input": "2024-11-05T18:48:17.162664Z",
     "iopub.status.busy": "2024-11-05T18:48:17.162237Z",
     "iopub.status.idle": "2024-11-05T18:48:17.167162Z",
     "shell.execute_reply": "2024-11-05T18:48:17.166019Z"
    },
    "papermill": {
     "duration": 0.018485,
     "end_time": "2024-11-05T18:48:17.169597",
     "exception": false,
     "start_time": "2024-11-05T18:48:17.151112",
     "status": "completed"
    },
    "tags": []
   },
   "outputs": [],
   "source": [
    "# Lines below will give you a hint or solution code\n",
    "#step_3.a.hint()\n",
    "#step_3.a.solution()"
   ]
  },
  {
   "cell_type": "markdown",
   "id": "1578c1bd",
   "metadata": {
    "papermill": {
     "duration": 0.009632,
     "end_time": "2024-11-05T18:48:17.189370",
     "exception": false,
     "start_time": "2024-11-05T18:48:17.179738",
     "status": "completed"
    },
    "tags": []
   },
   "source": [
    "Run the next code cell without changes to obtain the MAE for this approach."
   ]
  },
  {
   "cell_type": "code",
   "execution_count": 15,
   "id": "bb908ed0",
   "metadata": {
    "execution": {
     "iopub.execute_input": "2024-11-05T18:48:17.210902Z",
     "iopub.status.busy": "2024-11-05T18:48:17.210478Z",
     "iopub.status.idle": "2024-11-05T18:48:18.622246Z",
     "shell.execute_reply": "2024-11-05T18:48:18.620977Z"
    },
    "papermill": {
     "duration": 1.425576,
     "end_time": "2024-11-05T18:48:18.624849",
     "exception": false,
     "start_time": "2024-11-05T18:48:17.199273",
     "status": "completed"
    },
    "tags": []
   },
   "outputs": [
    {
     "name": "stdout",
     "output_type": "stream",
     "text": [
      "MAE (Imputation):\n",
      "18062.894611872147\n"
     ]
    }
   ],
   "source": [
    "print(\"MAE (Imputation):\")\n",
    "print(score_dataset(imputed_X_train, imputed_X_valid, y_train, y_valid))"
   ]
  },
  {
   "cell_type": "markdown",
   "id": "0e30538f",
   "metadata": {
    "papermill": {
     "duration": 0.009853,
     "end_time": "2024-11-05T18:48:18.644924",
     "exception": false,
     "start_time": "2024-11-05T18:48:18.635071",
     "status": "completed"
    },
    "tags": []
   },
   "source": [
    "### Part B\n",
    "\n",
    "Compare the MAE from each approach.  Does anything surprise you about the results?  Why do you think one approach performed better than the other?"
   ]
  },
  {
   "cell_type": "code",
   "execution_count": 16,
   "id": "3ea7ca86",
   "metadata": {
    "execution": {
     "iopub.execute_input": "2024-11-05T18:48:18.666730Z",
     "iopub.status.busy": "2024-11-05T18:48:18.666329Z",
     "iopub.status.idle": "2024-11-05T18:48:18.675582Z",
     "shell.execute_reply": "2024-11-05T18:48:18.674430Z"
    },
    "papermill": {
     "duration": 0.022914,
     "end_time": "2024-11-05T18:48:18.678018",
     "exception": false,
     "start_time": "2024-11-05T18:48:18.655104",
     "status": "completed"
    },
    "tags": []
   },
   "outputs": [
    {
     "data": {
      "application/javascript": [
       "parent.postMessage({\"jupyterEvent\": \"custom.exercise_interaction\", \"data\": {\"outcomeType\": 1, \"valueTowardsCompletion\": 1.0, \"interactionType\": 1, \"questionType\": 4, \"questionId\": \"3.2_ImputeThought\", \"learnToolsVersion\": \"0.3.4\", \"failureMessage\": \"\", \"exceptionClass\": \"\", \"trace\": \"\"}}, \"*\")"
      ],
      "text/plain": [
       "<IPython.core.display.Javascript object>"
      ]
     },
     "metadata": {},
     "output_type": "display_data"
    },
    {
     "data": {
      "text/markdown": [
       "<span style=\"color:#33cc33\">Correct:</span> \n",
       "\n",
       "Given that thre are so few missing values in the dataset, we'd expect imputation to perform better than dropping columns entirely.  However, we see that dropping columns performs slightly better!  While this can probably partially be attributed to noise in the dataset, another potential explanation is that the imputation method is not a great match to this dataset.  That is, maybe instead of filling in the mean value, it makes more sense to set every missing value to a value of 0, to fill in the most frequently encountered value, or to use some other method.  For instance, consider the `GarageYrBlt` column (which indicates the year that the garage was built).  It's likely that in some cases, a missing value could indicate a house that does not have a garage.  Does it make more sense to fill in the median value along each column in this case?  Or could we get better results by filling in the minimum value along each column?  It's not quite clear what's best in this case, but perhaps we can rule out some options immediately - for instance, setting missing values in this column to 0 is likely to yield horrible results!"
      ],
      "text/plain": [
       "Correct: \n",
       "\n",
       "Given that thre are so few missing values in the dataset, we'd expect imputation to perform better than dropping columns entirely.  However, we see that dropping columns performs slightly better!  While this can probably partially be attributed to noise in the dataset, another potential explanation is that the imputation method is not a great match to this dataset.  That is, maybe instead of filling in the mean value, it makes more sense to set every missing value to a value of 0, to fill in the most frequently encountered value, or to use some other method.  For instance, consider the `GarageYrBlt` column (which indicates the year that the garage was built).  It's likely that in some cases, a missing value could indicate a house that does not have a garage.  Does it make more sense to fill in the median value along each column in this case?  Or could we get better results by filling in the minimum value along each column?  It's not quite clear what's best in this case, but perhaps we can rule out some options immediately - for instance, setting missing values in this column to 0 is likely to yield horrible results!"
      ]
     },
     "metadata": {},
     "output_type": "display_data"
    }
   ],
   "source": [
    "# The drop had a higher score than the imputed data.\n",
    "# We could mark the imputed data as imputed in order to improve accuracy more.\n",
    "# Check your answer (Run this code cell to receive credit!)\n",
    "step_3.b.check()"
   ]
  },
  {
   "cell_type": "code",
   "execution_count": 17,
   "id": "6534366d",
   "metadata": {
    "execution": {
     "iopub.execute_input": "2024-11-05T18:48:18.700732Z",
     "iopub.status.busy": "2024-11-05T18:48:18.700286Z",
     "iopub.status.idle": "2024-11-05T18:48:18.705315Z",
     "shell.execute_reply": "2024-11-05T18:48:18.704170Z"
    },
    "papermill": {
     "duration": 0.01909,
     "end_time": "2024-11-05T18:48:18.707601",
     "exception": false,
     "start_time": "2024-11-05T18:48:18.688511",
     "status": "completed"
    },
    "tags": []
   },
   "outputs": [],
   "source": [
    "#step_3.b.hint()"
   ]
  },
  {
   "cell_type": "markdown",
   "id": "b2ef81b8",
   "metadata": {
    "papermill": {
     "duration": 0.010023,
     "end_time": "2024-11-05T18:48:18.728182",
     "exception": false,
     "start_time": "2024-11-05T18:48:18.718159",
     "status": "completed"
    },
    "tags": []
   },
   "source": [
    "# Step 4: Generate test predictions\n",
    "\n",
    "In this final step, you'll use any approach of your choosing to deal with missing values.  Once you've preprocessed the training and validation features, you'll train and evaluate a random forest model.  Then, you'll preprocess the test data before generating predictions that can be submitted to the competition!\n",
    "\n",
    "### Part A\n",
    "\n",
    "Use the next code cell to preprocess the training and validation data.  Set the preprocessed DataFrames to `final_X_train` and `final_X_valid`.  **You can use any approach of your choosing here!**  in order for this step to be marked as correct, you need only ensure:\n",
    "- the preprocessed DataFrames have the same number of columns,\n",
    "- the preprocessed DataFrames have no missing values, \n",
    "- `final_X_train` and `y_train` have the same number of rows, and\n",
    "- `final_X_valid` and `y_valid` have the same number of rows."
   ]
  },
  {
   "cell_type": "code",
   "execution_count": 18,
   "id": "39e14c93",
   "metadata": {
    "execution": {
     "iopub.execute_input": "2024-11-05T18:48:18.751023Z",
     "iopub.status.busy": "2024-11-05T18:48:18.750519Z",
     "iopub.status.idle": "2024-11-05T18:48:18.771571Z",
     "shell.execute_reply": "2024-11-05T18:48:18.770460Z"
    },
    "papermill": {
     "duration": 0.035162,
     "end_time": "2024-11-05T18:48:18.773995",
     "exception": false,
     "start_time": "2024-11-05T18:48:18.738833",
     "status": "completed"
    },
    "tags": []
   },
   "outputs": [
    {
     "data": {
      "application/javascript": [
       "parent.postMessage({\"jupyterEvent\": \"custom.exercise_interaction\", \"data\": {\"outcomeType\": 1, \"valueTowardsCompletion\": 1.0, \"interactionType\": 1, \"questionType\": 2, \"questionId\": \"4.1_PredsCodeA\", \"learnToolsVersion\": \"0.3.4\", \"failureMessage\": \"\", \"exceptionClass\": \"\", \"trace\": \"\"}}, \"*\")"
      ],
      "text/plain": [
       "<IPython.core.display.Javascript object>"
      ]
     },
     "metadata": {},
     "output_type": "display_data"
    },
    {
     "data": {
      "text/markdown": [
       "<span style=\"color:#33cc33\">Correct</span>"
      ],
      "text/plain": [
       "Correct"
      ]
     },
     "metadata": {},
     "output_type": "display_data"
    }
   ],
   "source": [
    "# Preprocessed training and validation features\n",
    "final_X_train = X_train.fillna(-99999)\n",
    "final_X_valid = X_valid.fillna(-99999)\n",
    "\n",
    "# Check your answers\n",
    "step_4.a.check()"
   ]
  },
  {
   "cell_type": "code",
   "execution_count": 19,
   "id": "47e609e6",
   "metadata": {
    "execution": {
     "iopub.execute_input": "2024-11-05T18:48:18.797110Z",
     "iopub.status.busy": "2024-11-05T18:48:18.796713Z",
     "iopub.status.idle": "2024-11-05T18:48:18.801832Z",
     "shell.execute_reply": "2024-11-05T18:48:18.800523Z"
    },
    "papermill": {
     "duration": 0.019482,
     "end_time": "2024-11-05T18:48:18.804239",
     "exception": false,
     "start_time": "2024-11-05T18:48:18.784757",
     "status": "completed"
    },
    "tags": []
   },
   "outputs": [],
   "source": [
    "# Lines below will give you a hint or solution code\n",
    "#step_4.a.hint()\n",
    "#step_4.a.solution()"
   ]
  },
  {
   "cell_type": "markdown",
   "id": "ef0640db",
   "metadata": {
    "papermill": {
     "duration": 0.010444,
     "end_time": "2024-11-05T18:48:18.826126",
     "exception": false,
     "start_time": "2024-11-05T18:48:18.815682",
     "status": "completed"
    },
    "tags": []
   },
   "source": [
    "Run the next code cell to train and evaluate a random forest model.  (*Note that we don't use the `score_dataset()` function above, because we will soon use the trained model to generate test predictions!*)"
   ]
  },
  {
   "cell_type": "code",
   "execution_count": 20,
   "id": "a6a199d8",
   "metadata": {
    "execution": {
     "iopub.execute_input": "2024-11-05T18:48:18.849330Z",
     "iopub.status.busy": "2024-11-05T18:48:18.848879Z",
     "iopub.status.idle": "2024-11-05T18:48:20.248316Z",
     "shell.execute_reply": "2024-11-05T18:48:20.246860Z"
    },
    "papermill": {
     "duration": 1.414118,
     "end_time": "2024-11-05T18:48:20.250893",
     "exception": false,
     "start_time": "2024-11-05T18:48:18.836775",
     "status": "completed"
    },
    "tags": []
   },
   "outputs": [
    {
     "name": "stdout",
     "output_type": "stream",
     "text": [
      "MAE (Your approach):\n",
      "17999.493436073062\n"
     ]
    }
   ],
   "source": [
    "# Define and fit model\n",
    "model = RandomForestRegressor(n_estimators=100, random_state=0)\n",
    "model.fit(final_X_train, y_train)\n",
    "\n",
    "# Get validation predictions and MAE\n",
    "preds_valid = model.predict(final_X_valid)\n",
    "print(\"MAE (Your approach):\")\n",
    "print(mean_absolute_error(y_valid, preds_valid))"
   ]
  },
  {
   "cell_type": "markdown",
   "id": "059064f9",
   "metadata": {
    "papermill": {
     "duration": 0.010368,
     "end_time": "2024-11-05T18:48:20.272035",
     "exception": false,
     "start_time": "2024-11-05T18:48:20.261667",
     "status": "completed"
    },
    "tags": []
   },
   "source": [
    "### Part B\n",
    "\n",
    "Use the next code cell to preprocess your test data.  Make sure that you use a method that agrees with how you preprocessed the training and validation data, and set the preprocessed test features to `final_X_test`.\n",
    "\n",
    "Then, use the preprocessed test features and the trained model to generate test predictions in `preds_test`.\n",
    "\n",
    "In order for this step to be marked correct, you need only ensure:\n",
    "- the preprocessed test DataFrame has no missing values, and\n",
    "- `final_X_test` has the same number of rows as `X_test`."
   ]
  },
  {
   "cell_type": "code",
   "execution_count": 21,
   "id": "e1ddc28e",
   "metadata": {
    "execution": {
     "iopub.execute_input": "2024-11-05T18:48:20.296372Z",
     "iopub.status.busy": "2024-11-05T18:48:20.295911Z",
     "iopub.status.idle": "2024-11-05T18:48:20.341355Z",
     "shell.execute_reply": "2024-11-05T18:48:20.339983Z"
    },
    "papermill": {
     "duration": 0.061619,
     "end_time": "2024-11-05T18:48:20.344449",
     "exception": false,
     "start_time": "2024-11-05T18:48:20.282830",
     "status": "completed"
    },
    "tags": []
   },
   "outputs": [
    {
     "data": {
      "application/javascript": [
       "parent.postMessage({\"jupyterEvent\": \"custom.exercise_interaction\", \"data\": {\"outcomeType\": 1, \"valueTowardsCompletion\": 1.0, \"interactionType\": 1, \"questionType\": 2, \"questionId\": \"4.2_PredsCodeB\", \"learnToolsVersion\": \"0.3.4\", \"failureMessage\": \"\", \"exceptionClass\": \"\", \"trace\": \"\"}}, \"*\")"
      ],
      "text/plain": [
       "<IPython.core.display.Javascript object>"
      ]
     },
     "metadata": {},
     "output_type": "display_data"
    },
    {
     "data": {
      "text/markdown": [
       "<span style=\"color:#33cc33\">Correct</span>"
      ],
      "text/plain": [
       "Correct"
      ]
     },
     "metadata": {},
     "output_type": "display_data"
    }
   ],
   "source": [
    "# Fill in the line below: preprocess test data\n",
    "final_X_test = X_test.fillna(-99999)\n",
    "\n",
    "# Fill in the line below: get test predictions\n",
    "preds_test = model.predict(final_X_test)\n",
    "\n",
    "# Check your answers\n",
    "step_4.b.check()"
   ]
  },
  {
   "cell_type": "code",
   "execution_count": 22,
   "id": "ace4487b",
   "metadata": {
    "execution": {
     "iopub.execute_input": "2024-11-05T18:48:20.373259Z",
     "iopub.status.busy": "2024-11-05T18:48:20.372672Z",
     "iopub.status.idle": "2024-11-05T18:48:20.378227Z",
     "shell.execute_reply": "2024-11-05T18:48:20.376855Z"
    },
    "papermill": {
     "duration": 0.024416,
     "end_time": "2024-11-05T18:48:20.381983",
     "exception": false,
     "start_time": "2024-11-05T18:48:20.357567",
     "status": "completed"
    },
    "tags": []
   },
   "outputs": [],
   "source": [
    "# Lines below will give you a hint or solution code\n",
    "#step_4.b.hint()\n",
    "#step_4.b.solution()"
   ]
  },
  {
   "cell_type": "markdown",
   "id": "dc490bb2",
   "metadata": {
    "papermill": {
     "duration": 0.016402,
     "end_time": "2024-11-05T18:48:20.414311",
     "exception": false,
     "start_time": "2024-11-05T18:48:20.397909",
     "status": "completed"
    },
    "tags": []
   },
   "source": [
    "Run the next code cell without changes to save your results to a CSV file that can be submitted directly to the competition."
   ]
  },
  {
   "cell_type": "code",
   "execution_count": 23,
   "id": "d5ff0428",
   "metadata": {
    "execution": {
     "iopub.execute_input": "2024-11-05T18:48:20.442725Z",
     "iopub.status.busy": "2024-11-05T18:48:20.442261Z",
     "iopub.status.idle": "2024-11-05T18:48:20.454611Z",
     "shell.execute_reply": "2024-11-05T18:48:20.453475Z"
    },
    "papermill": {
     "duration": 0.028474,
     "end_time": "2024-11-05T18:48:20.457390",
     "exception": false,
     "start_time": "2024-11-05T18:48:20.428916",
     "status": "completed"
    },
    "tags": []
   },
   "outputs": [],
   "source": [
    "# Save test predictions to file\n",
    "output = pd.DataFrame({'Id': X_test.index,\n",
    "                       'SalePrice': preds_test})\n",
    "output.to_csv('submission.csv', index=False)"
   ]
  },
  {
   "cell_type": "markdown",
   "id": "38e092de",
   "metadata": {
    "papermill": {
     "duration": 0.015485,
     "end_time": "2024-11-05T18:48:20.485736",
     "exception": false,
     "start_time": "2024-11-05T18:48:20.470251",
     "status": "completed"
    },
    "tags": []
   },
   "source": [
    "# Submit your results\n",
    "\n",
    "Once you have successfully completed Step 4, you're ready to submit your results to the leaderboard!  (_You also learned how to do this in the previous exercise.  If you need a reminder of how to do this, please use the instructions below._)  \n",
    "\n",
    "First, you'll need to join the competition if you haven't already.  So open a new window by clicking on [this link](https://www.kaggle.com/c/home-data-for-ml-course).  Then click on the **Join Competition** button.\n",
    "\n",
    "![join competition image](https://storage.googleapis.com/kaggle-media/learn/images/wLmFtH3.png)\n",
    "\n",
    "Next, follow the instructions below:\n",
    "1. Begin by clicking on the **Save Version** button in the top right corner of the window.  This will generate a pop-up window.  \n",
    "2. Ensure that the **Save and Run All** option is selected, and then click on the **Save** button.\n",
    "3. This generates a window in the bottom left corner of the notebook.  After it has finished running, click on the number to the right of the **Save Version** button.  This pulls up a list of versions on the right of the screen.  Click on the ellipsis **(...)** to the right of the most recent version, and select **Open in Viewer**.  This brings you into view mode of the same page. You will need to scroll down to get back to these instructions.\n",
    "4. Click on the **Data** tab near the top of the screen.  Then, click on the file you would like to submit, and click on the **Submit** button to submit your results to the leaderboard.\n",
    "\n",
    "You have now successfully submitted to the competition!\n",
    "\n",
    "If you want to keep working to improve your performance, select the **Edit** button in the top right of the screen. Then you can change your code and repeat the process. There's a lot of room to improve, and you will climb up the leaderboard as you work.\n",
    "\n",
    "\n",
    "# Keep going\n",
    "\n",
    "Move on to learn what **[categorical variables](https://www.kaggle.com/alexisbcook/categorical-variables)** are, along with how to incorporate them into your machine learning models.  Categorical variables are very common in real-world data, but you'll get an error if you try to plug them into your models without processing them first!"
   ]
  },
  {
   "cell_type": "markdown",
   "id": "ba81904b",
   "metadata": {
    "papermill": {
     "duration": 0.017439,
     "end_time": "2024-11-05T18:48:20.517692",
     "exception": false,
     "start_time": "2024-11-05T18:48:20.500253",
     "status": "completed"
    },
    "tags": []
   },
   "source": [
    "---\n",
    "\n",
    "\n",
    "\n",
    "\n",
    "*Have questions or comments? Visit the [course discussion forum](https://www.kaggle.com/learn/intermediate-machine-learning/discussion) to chat with other learners.*"
   ]
  }
 ],
 "metadata": {
  "kaggle": {
   "accelerator": "none",
   "dataSources": [
    {
     "databundleVersionId": 111096,
     "sourceId": 10211,
     "sourceType": "competition"
    }
   ],
   "isGpuEnabled": false,
   "isInternetEnabled": false,
   "language": "python",
   "sourceType": "notebook"
  },
  "kernelspec": {
   "display_name": "Python 3",
   "language": "python",
   "name": "python3"
  },
  "language_info": {
   "codemirror_mode": {
    "name": "ipython",
    "version": 3
   },
   "file_extension": ".py",
   "mimetype": "text/x-python",
   "name": "python",
   "nbconvert_exporter": "python",
   "pygments_lexer": "ipython3",
   "version": "3.10.14"
  },
  "papermill": {
   "default_parameters": {},
   "duration": 11.521262,
   "end_time": "2024-11-05T18:48:21.156582",
   "environment_variables": {},
   "exception": null,
   "input_path": "__notebook__.ipynb",
   "output_path": "__notebook__.ipynb",
   "parameters": {},
   "start_time": "2024-11-05T18:48:09.635320",
   "version": "2.6.0"
  }
 },
 "nbformat": 4,
 "nbformat_minor": 5
}
