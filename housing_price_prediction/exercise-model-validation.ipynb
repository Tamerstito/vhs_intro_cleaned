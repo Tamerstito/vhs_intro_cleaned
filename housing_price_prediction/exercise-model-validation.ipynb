{
 "cells": [
  {
   "cell_type": "markdown",
   "id": "013b14d5",
   "metadata": {
    "papermill": {
     "duration": 0.006871,
     "end_time": "2024-10-22T16:28:29.472543",
     "exception": false,
     "start_time": "2024-10-22T16:28:29.465672",
     "status": "completed"
    },
    "tags": []
   },
   "source": [
    "**This notebook is an exercise in the [Introduction to Machine Learning](https://www.kaggle.com/learn/intro-to-machine-learning) course.  You can reference the tutorial at [this link](https://www.kaggle.com/dansbecker/model-validation).**\n",
    "\n",
    "---\n"
   ]
  },
  {
   "cell_type": "markdown",
   "id": "604f6680",
   "metadata": {
    "papermill": {
     "duration": 0.006184,
     "end_time": "2024-10-22T16:28:29.485029",
     "exception": false,
     "start_time": "2024-10-22T16:28:29.478845",
     "status": "completed"
    },
    "tags": []
   },
   "source": [
    "## Recap\n",
    "You've built a model. In this exercise you will test how good your model is.\n",
    "\n",
    "Run the cell below to set up your coding environment where the previous exercise left off."
   ]
  },
  {
   "cell_type": "code",
   "execution_count": 1,
   "id": "05c8577c",
   "metadata": {
    "execution": {
     "iopub.execute_input": "2024-10-22T16:28:29.499949Z",
     "iopub.status.busy": "2024-10-22T16:28:29.499369Z",
     "iopub.status.idle": "2024-10-22T16:28:32.645282Z",
     "shell.execute_reply": "2024-10-22T16:28:32.643671Z"
    },
    "papermill": {
     "duration": 3.156954,
     "end_time": "2024-10-22T16:28:32.648237",
     "exception": false,
     "start_time": "2024-10-22T16:28:29.491283",
     "status": "completed"
    },
    "tags": []
   },
   "outputs": [
    {
     "name": "stdout",
     "output_type": "stream",
     "text": [
      "First in-sample predictions: [208500. 181500. 223500. 140000. 250000.]\n",
      "Actual target values for those homes: [208500, 181500, 223500, 140000, 250000]\n",
      "Setup Complete\n"
     ]
    }
   ],
   "source": [
    "# Code you have previously used to load data\n",
    "import pandas as pd\n",
    "from sklearn.tree import DecisionTreeRegressor\n",
    "\n",
    "# Path of the file to read\n",
    "iowa_file_path = '../input/home-data-for-ml-course/train.csv'\n",
    "\n",
    "home_data = pd.read_csv(iowa_file_path)\n",
    "y = home_data.SalePrice\n",
    "feature_columns = ['LotArea', 'YearBuilt', '1stFlrSF', '2ndFlrSF', 'FullBath', 'BedroomAbvGr', 'TotRmsAbvGrd']\n",
    "X = home_data[feature_columns]\n",
    "\n",
    "# Specify Model\n",
    "iowa_model = DecisionTreeRegressor()\n",
    "# Fit Model\n",
    "iowa_model.fit(X, y)\n",
    "\n",
    "print(\"First in-sample predictions:\", iowa_model.predict(X.head()))\n",
    "print(\"Actual target values for those homes:\", y.head().tolist())\n",
    "\n",
    "# Set up code checking\n",
    "from learntools.core import binder\n",
    "binder.bind(globals())\n",
    "from learntools.machine_learning.ex4 import *\n",
    "print(\"Setup Complete\")"
   ]
  },
  {
   "cell_type": "markdown",
   "id": "97b5448a",
   "metadata": {
    "papermill": {
     "duration": 0.006324,
     "end_time": "2024-10-22T16:28:32.661398",
     "exception": false,
     "start_time": "2024-10-22T16:28:32.655074",
     "status": "completed"
    },
    "tags": []
   },
   "source": [
    "# Exercises\n",
    "\n",
    "## Step 1: Split Your Data\n",
    "Use the `train_test_split` function to split up your data.\n",
    "\n",
    "Give it the argument `random_state=1` so the `check` functions know what to expect when verifying your code.\n",
    "\n",
    "Recall, your features are loaded in the DataFrame **X** and your target is loaded in **y**.\n"
   ]
  },
  {
   "cell_type": "code",
   "execution_count": 2,
   "id": "526a9b10",
   "metadata": {
    "execution": {
     "iopub.execute_input": "2024-10-22T16:28:32.677117Z",
     "iopub.status.busy": "2024-10-22T16:28:32.676661Z",
     "iopub.status.idle": "2024-10-22T16:28:32.697817Z",
     "shell.execute_reply": "2024-10-22T16:28:32.696442Z"
    },
    "papermill": {
     "duration": 0.032742,
     "end_time": "2024-10-22T16:28:32.700690",
     "exception": false,
     "start_time": "2024-10-22T16:28:32.667948",
     "status": "completed"
    },
    "tags": []
   },
   "outputs": [
    {
     "data": {
      "application/javascript": [
       "parent.postMessage({\"jupyterEvent\": \"custom.exercise_interaction\", \"data\": {\"outcomeType\": 1, \"valueTowardsCompletion\": 0.25, \"interactionType\": 1, \"questionType\": 2, \"questionId\": \"1_SplitData\", \"learnToolsVersion\": \"0.3.4\", \"failureMessage\": \"\", \"exceptionClass\": \"\", \"trace\": \"\"}}, \"*\")"
      ],
      "text/plain": [
       "<IPython.core.display.Javascript object>"
      ]
     },
     "metadata": {},
     "output_type": "display_data"
    },
    {
     "data": {
      "text/markdown": [
       "<span style=\"color:#33cc33\">Correct</span>"
      ],
      "text/plain": [
       "Correct"
      ]
     },
     "metadata": {},
     "output_type": "display_data"
    }
   ],
   "source": [
    "# Import the train_test_split function and uncomment\n",
    "from sklearn.model_selection import train_test_split\n",
    "\n",
    "# fill in and uncomment\n",
    "train_X, val_X, train_y, val_y = train_test_split(X, y, random_state = 1)\n",
    "\n",
    "# Check your answer\n",
    "step_1.check()"
   ]
  },
  {
   "cell_type": "code",
   "execution_count": 3,
   "id": "273ef6ae",
   "metadata": {
    "execution": {
     "iopub.execute_input": "2024-10-22T16:28:32.716648Z",
     "iopub.status.busy": "2024-10-22T16:28:32.716035Z",
     "iopub.status.idle": "2024-10-22T16:28:32.722608Z",
     "shell.execute_reply": "2024-10-22T16:28:32.720976Z"
    },
    "papermill": {
     "duration": 0.018255,
     "end_time": "2024-10-22T16:28:32.725652",
     "exception": false,
     "start_time": "2024-10-22T16:28:32.707397",
     "status": "completed"
    },
    "tags": []
   },
   "outputs": [],
   "source": [
    "# The lines below will show you a hint or the solution.\n",
    "# step_1.hint() \n",
    "# step_1.solution()\n"
   ]
  },
  {
   "cell_type": "markdown",
   "id": "b05cef02",
   "metadata": {
    "papermill": {
     "duration": 0.007109,
     "end_time": "2024-10-22T16:28:32.740058",
     "exception": false,
     "start_time": "2024-10-22T16:28:32.732949",
     "status": "completed"
    },
    "tags": []
   },
   "source": [
    "## Step 2: Specify and Fit the Model\n",
    "\n",
    "Create a `DecisionTreeRegressor` model and fit it to the relevant data.\n",
    "Set `random_state` to 1 again when creating the model."
   ]
  },
  {
   "cell_type": "code",
   "execution_count": 4,
   "id": "97b90648",
   "metadata": {
    "execution": {
     "iopub.execute_input": "2024-10-22T16:28:32.757330Z",
     "iopub.status.busy": "2024-10-22T16:28:32.756776Z",
     "iopub.status.idle": "2024-10-22T16:28:32.790427Z",
     "shell.execute_reply": "2024-10-22T16:28:32.789182Z"
    },
    "papermill": {
     "duration": 0.046278,
     "end_time": "2024-10-22T16:28:32.793203",
     "exception": false,
     "start_time": "2024-10-22T16:28:32.746925",
     "status": "completed"
    },
    "tags": []
   },
   "outputs": [
    {
     "name": "stdout",
     "output_type": "stream",
     "text": [
      "[186500. 184000. 130000.  92000. 164500. 220000. 335000. 144152. 215000.\n",
      " 262000.]\n",
      "[186500. 184000. 130000.  92000. 164500. 220000. 335000. 144152. 215000.\n",
      " 262000.]\n"
     ]
    },
    {
     "data": {
      "application/javascript": [
       "parent.postMessage({\"jupyterEvent\": \"custom.exercise_interaction\", \"data\": {\"outcomeType\": 1, \"valueTowardsCompletion\": 0.25, \"interactionType\": 1, \"questionType\": 2, \"questionId\": \"2_FitModelWithTrain\", \"learnToolsVersion\": \"0.3.4\", \"failureMessage\": \"\", \"exceptionClass\": \"\", \"trace\": \"\"}}, \"*\")"
      ],
      "text/plain": [
       "<IPython.core.display.Javascript object>"
      ]
     },
     "metadata": {},
     "output_type": "display_data"
    },
    {
     "data": {
      "text/markdown": [
       "<span style=\"color:#33cc33\">Correct</span>"
      ],
      "text/plain": [
       "Correct"
      ]
     },
     "metadata": {},
     "output_type": "display_data"
    }
   ],
   "source": [
    "# You imported DecisionTreeRegressor in your last exercise\n",
    "# and that code has been copied to the setup code above. So, no need to\n",
    "# import it again\n",
    "\n",
    "# Specify the model\n",
    "iowa_model = DecisionTreeRegressor(random_state = 1)\n",
    "\n",
    "# Fit iowa_model with the training data.\n",
    "iowa_model.fit(train_X, train_y)\n",
    "\n",
    "# Check your answer\n",
    "step_2.check()"
   ]
  },
  {
   "cell_type": "code",
   "execution_count": 5,
   "id": "0b338340",
   "metadata": {
    "execution": {
     "iopub.execute_input": "2024-10-22T16:28:32.809848Z",
     "iopub.status.busy": "2024-10-22T16:28:32.809346Z",
     "iopub.status.idle": "2024-10-22T16:28:32.815550Z",
     "shell.execute_reply": "2024-10-22T16:28:32.813980Z"
    },
    "papermill": {
     "duration": 0.017676,
     "end_time": "2024-10-22T16:28:32.818178",
     "exception": false,
     "start_time": "2024-10-22T16:28:32.800502",
     "status": "completed"
    },
    "tags": []
   },
   "outputs": [],
   "source": [
    "# step_2.hint()\n",
    "# step_2.solution()"
   ]
  },
  {
   "cell_type": "markdown",
   "id": "263a14df",
   "metadata": {
    "papermill": {
     "duration": 0.006696,
     "end_time": "2024-10-22T16:28:32.832263",
     "exception": false,
     "start_time": "2024-10-22T16:28:32.825567",
     "status": "completed"
    },
    "tags": []
   },
   "source": [
    "## Step 3: Make Predictions with Validation data\n"
   ]
  },
  {
   "cell_type": "code",
   "execution_count": 6,
   "id": "5ccf02f5",
   "metadata": {
    "execution": {
     "iopub.execute_input": "2024-10-22T16:28:32.848374Z",
     "iopub.status.busy": "2024-10-22T16:28:32.847826Z",
     "iopub.status.idle": "2024-10-22T16:28:32.862845Z",
     "shell.execute_reply": "2024-10-22T16:28:32.861649Z"
    },
    "papermill": {
     "duration": 0.026358,
     "end_time": "2024-10-22T16:28:32.865623",
     "exception": false,
     "start_time": "2024-10-22T16:28:32.839265",
     "status": "completed"
    },
    "tags": []
   },
   "outputs": [
    {
     "data": {
      "application/javascript": [
       "parent.postMessage({\"jupyterEvent\": \"custom.exercise_interaction\", \"data\": {\"outcomeType\": 1, \"valueTowardsCompletion\": 0.25, \"interactionType\": 1, \"questionType\": 2, \"questionId\": \"3_ValPreds\", \"learnToolsVersion\": \"0.3.4\", \"failureMessage\": \"\", \"exceptionClass\": \"\", \"trace\": \"\"}}, \"*\")"
      ],
      "text/plain": [
       "<IPython.core.display.Javascript object>"
      ]
     },
     "metadata": {},
     "output_type": "display_data"
    },
    {
     "data": {
      "text/markdown": [
       "<span style=\"color:#33cc33\">Correct</span>"
      ],
      "text/plain": [
       "Correct"
      ]
     },
     "metadata": {},
     "output_type": "display_data"
    }
   ],
   "source": [
    "# Predict with all validation observations\n",
    "val_predictions = iowa_model.predict(val_X)\n",
    "\n",
    "# Check your answer\n",
    "step_3.check()"
   ]
  },
  {
   "cell_type": "code",
   "execution_count": 7,
   "id": "401d3199",
   "metadata": {
    "execution": {
     "iopub.execute_input": "2024-10-22T16:28:32.882949Z",
     "iopub.status.busy": "2024-10-22T16:28:32.882416Z",
     "iopub.status.idle": "2024-10-22T16:28:32.888414Z",
     "shell.execute_reply": "2024-10-22T16:28:32.887077Z"
    },
    "papermill": {
     "duration": 0.018108,
     "end_time": "2024-10-22T16:28:32.891254",
     "exception": false,
     "start_time": "2024-10-22T16:28:32.873146",
     "status": "completed"
    },
    "tags": []
   },
   "outputs": [],
   "source": [
    "# step_3.hint()\n",
    "# step_3.solution()"
   ]
  },
  {
   "cell_type": "markdown",
   "id": "df396687",
   "metadata": {
    "papermill": {
     "duration": 0.007111,
     "end_time": "2024-10-22T16:28:32.905921",
     "exception": false,
     "start_time": "2024-10-22T16:28:32.898810",
     "status": "completed"
    },
    "tags": []
   },
   "source": [
    "Inspect your predictions and actual values from validation data."
   ]
  },
  {
   "cell_type": "code",
   "execution_count": 8,
   "id": "a0cd50ae",
   "metadata": {
    "execution": {
     "iopub.execute_input": "2024-10-22T16:28:32.923324Z",
     "iopub.status.busy": "2024-10-22T16:28:32.922579Z",
     "iopub.status.idle": "2024-10-22T16:28:32.939627Z",
     "shell.execute_reply": "2024-10-22T16:28:32.938014Z"
    },
    "papermill": {
     "duration": 0.029013,
     "end_time": "2024-10-22T16:28:32.942528",
     "exception": false,
     "start_time": "2024-10-22T16:28:32.913515",
     "status": "completed"
    },
    "tags": []
   },
   "outputs": [
    {
     "name": "stdout",
     "output_type": "stream",
     "text": [
      "          0\n",
      "0  186500.0\n",
      "1  184000.0\n",
      "2  130000.0\n",
      "3   92000.0\n",
      "4  164500.0\n",
      "      SalePrice\n",
      "258      231500\n",
      "267      179500\n",
      "288      122000\n",
      "649       84500\n",
      "1233     142000\n"
     ]
    }
   ],
   "source": [
    "# print the top few validation predictions\n",
    "predicted_data = pd.DataFrame(val_predictions)\n",
    "print(predicted_data.head())\n",
    "# print the top few actual prices from validation data\n",
    "real_data = pd.DataFrame(val_y)\n",
    "print(real_data.head())"
   ]
  },
  {
   "cell_type": "markdown",
   "id": "19d1ff1a",
   "metadata": {
    "papermill": {
     "duration": 0.00736,
     "end_time": "2024-10-22T16:28:32.957373",
     "exception": false,
     "start_time": "2024-10-22T16:28:32.950013",
     "status": "completed"
    },
    "tags": []
   },
   "source": [
    "What do you notice that is different from what you saw with in-sample predictions (which are printed after the top code cell in this page).\n",
    "\n",
    "Do you remember why validation predictions differ from in-sample (or training) predictions? This is an important idea from the last lesson.\n",
    "\n",
    "## Step 4: Calculate the Mean Absolute Error in Validation Data\n"
   ]
  },
  {
   "cell_type": "code",
   "execution_count": 9,
   "id": "b9e8419c",
   "metadata": {
    "execution": {
     "iopub.execute_input": "2024-10-22T16:28:32.974204Z",
     "iopub.status.busy": "2024-10-22T16:28:32.973777Z",
     "iopub.status.idle": "2024-10-22T16:28:32.987288Z",
     "shell.execute_reply": "2024-10-22T16:28:32.985748Z"
    },
    "papermill": {
     "duration": 0.025293,
     "end_time": "2024-10-22T16:28:32.990114",
     "exception": false,
     "start_time": "2024-10-22T16:28:32.964821",
     "status": "completed"
    },
    "tags": []
   },
   "outputs": [
    {
     "data": {
      "application/javascript": [
       "parent.postMessage({\"jupyterEvent\": \"custom.exercise_interaction\", \"data\": {\"outcomeType\": 1, \"valueTowardsCompletion\": 0.25, \"interactionType\": 1, \"questionType\": 1, \"questionId\": \"4_MAE\", \"learnToolsVersion\": \"0.3.4\", \"failureMessage\": \"\", \"exceptionClass\": \"\", \"trace\": \"\"}}, \"*\")"
      ],
      "text/plain": [
       "<IPython.core.display.Javascript object>"
      ]
     },
     "metadata": {},
     "output_type": "display_data"
    },
    {
     "data": {
      "text/markdown": [
       "<span style=\"color:#33cc33\">Correct</span>"
      ],
      "text/plain": [
       "Correct"
      ]
     },
     "metadata": {},
     "output_type": "display_data"
    }
   ],
   "source": [
    "from sklearn.metrics import mean_absolute_error\n",
    "val_mae = mean_absolute_error(val_predictions, val_y)\n",
    "\n",
    "# uncomment following line to see the validation_mae\n",
    "#print(val_mae)\n",
    "\n",
    "# Check your answer\n",
    "step_4.check()"
   ]
  },
  {
   "cell_type": "code",
   "execution_count": 10,
   "id": "a8f78f5d",
   "metadata": {
    "execution": {
     "iopub.execute_input": "2024-10-22T16:28:33.009779Z",
     "iopub.status.busy": "2024-10-22T16:28:33.009236Z",
     "iopub.status.idle": "2024-10-22T16:28:33.015530Z",
     "shell.execute_reply": "2024-10-22T16:28:33.014005Z"
    },
    "papermill": {
     "duration": 0.019645,
     "end_time": "2024-10-22T16:28:33.018465",
     "exception": false,
     "start_time": "2024-10-22T16:28:32.998820",
     "status": "completed"
    },
    "tags": []
   },
   "outputs": [],
   "source": [
    "# step_4.hint()\n",
    "# step_4.solution()"
   ]
  },
  {
   "cell_type": "markdown",
   "id": "85d59bd6",
   "metadata": {
    "papermill": {
     "duration": 0.007755,
     "end_time": "2024-10-22T16:28:33.035088",
     "exception": false,
     "start_time": "2024-10-22T16:28:33.027333",
     "status": "completed"
    },
    "tags": []
   },
   "source": [
    "Is that MAE good?  There isn't a general rule for what values are good that applies across applications. But you'll see how to use (and improve) this number in the next step.\n",
    "\n",
    "# Keep Going\n",
    "\n",
    "You are ready for **[Underfitting and Overfitting](https://www.kaggle.com/dansbecker/underfitting-and-overfitting).**\n"
   ]
  },
  {
   "cell_type": "markdown",
   "id": "f9a3c9dc",
   "metadata": {
    "papermill": {
     "duration": 0.007648,
     "end_time": "2024-10-22T16:28:33.050739",
     "exception": false,
     "start_time": "2024-10-22T16:28:33.043091",
     "status": "completed"
    },
    "tags": []
   },
   "source": [
    "---\n",
    "\n",
    "\n",
    "\n",
    "\n",
    "*Have questions or comments? Visit the [course discussion forum](https://www.kaggle.com/learn/intro-to-machine-learning/discussion) to chat with other learners.*"
   ]
  }
 ],
 "metadata": {
  "kaggle": {
   "accelerator": "none",
   "dataSources": [
    {
     "databundleVersionId": 111096,
     "sourceId": 10211,
     "sourceType": "competition"
    },
    {
     "datasetId": 11167,
     "sourceId": 15520,
     "sourceType": "datasetVersion"
    },
    {
     "datasetId": 2709,
     "sourceId": 38454,
     "sourceType": "datasetVersion"
    }
   ],
   "isGpuEnabled": false,
   "isInternetEnabled": false,
   "language": "python",
   "sourceType": "notebook"
  },
  "kernelspec": {
   "display_name": "Python 3",
   "language": "python",
   "name": "python3"
  },
  "language_info": {
   "codemirror_mode": {
    "name": "ipython",
    "version": 3
   },
   "file_extension": ".py",
   "mimetype": "text/x-python",
   "name": "python",
   "nbconvert_exporter": "python",
   "pygments_lexer": "ipython3",
   "version": "3.10.14"
  },
  "papermill": {
   "default_parameters": {},
   "duration": 7.678383,
   "end_time": "2024-10-22T16:28:33.784871",
   "environment_variables": {},
   "exception": null,
   "input_path": "__notebook__.ipynb",
   "output_path": "__notebook__.ipynb",
   "parameters": {},
   "start_time": "2024-10-22T16:28:26.106488",
   "version": "2.6.0"
  }
 },
 "nbformat": 4,
 "nbformat_minor": 5
}
